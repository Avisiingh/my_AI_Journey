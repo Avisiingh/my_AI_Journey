{
 "cells": [
  {
   "cell_type": "markdown",
   "id": "a0d9f5f9",
   "metadata": {},
   "source": [
    "#### Preparing Mexico Data"
   ]
  },
  {
   "cell_type": "code",
   "execution_count": 236,
   "id": "2582c601",
   "metadata": {},
   "outputs": [],
   "source": [
    "import pandas as pd"
   ]
  },
  {
   "cell_type": "code",
   "execution_count": 237,
   "id": "e26f5894",
   "metadata": {},
   "outputs": [],
   "source": [
    "df1 =pd.read_csv(\"mexico-real-estate-1.csv\")\n",
    "df2 =pd.read_csv(\"mexico-real-estate-2.csv\")\n",
    "df3 =pd.read_csv(\"mexico-real-estate-3.csv\")"
   ]
  },
  {
   "cell_type": "markdown",
   "id": "e79d2e5c",
   "metadata": {},
   "source": [
    "##### Clean df1"
   ]
  },
  {
   "cell_type": "code",
   "execution_count": 238,
   "id": "a534a1c7",
   "metadata": {},
   "outputs": [
    {
     "data": {
      "text/plain": [
       "(700, 6)"
      ]
     },
     "execution_count": 238,
     "metadata": {},
     "output_type": "execute_result"
    }
   ],
   "source": [
    "df1.shape"
   ]
  },
  {
   "cell_type": "code",
   "execution_count": 239,
   "id": "1b4269dd",
   "metadata": {},
   "outputs": [],
   "source": [
    "### 700 observation and 6 features"
   ]
  },
  {
   "cell_type": "code",
   "execution_count": 240,
   "id": "3280b84f",
   "metadata": {},
   "outputs": [
    {
     "name": "stdout",
     "output_type": "stream",
     "text": [
      "<class 'pandas.core.frame.DataFrame'>\n",
      "RangeIndex: 700 entries, 0 to 699\n",
      "Data columns (total 6 columns):\n",
      " #   Column         Non-Null Count  Dtype  \n",
      "---  ------         --------------  -----  \n",
      " 0   property_type  700 non-null    object \n",
      " 1   state          700 non-null    object \n",
      " 2   lat            583 non-null    float64\n",
      " 3   lon            583 non-null    float64\n",
      " 4   area_m2        700 non-null    float64\n",
      " 5   price_usd      700 non-null    object \n",
      "dtypes: float64(3), object(3)\n",
      "memory usage: 32.9+ KB\n"
     ]
    }
   ],
   "source": [
    "df1.info()"
   ]
  },
  {
   "cell_type": "code",
   "execution_count": 241,
   "id": "a764c801",
   "metadata": {},
   "outputs": [
    {
     "data": {
      "text/html": [
       "<div>\n",
       "<style scoped>\n",
       "    .dataframe tbody tr th:only-of-type {\n",
       "        vertical-align: middle;\n",
       "    }\n",
       "\n",
       "    .dataframe tbody tr th {\n",
       "        vertical-align: top;\n",
       "    }\n",
       "\n",
       "    .dataframe thead th {\n",
       "        text-align: right;\n",
       "    }\n",
       "</style>\n",
       "<table border=\"1\" class=\"dataframe\">\n",
       "  <thead>\n",
       "    <tr style=\"text-align: right;\">\n",
       "      <th></th>\n",
       "      <th>property_type</th>\n",
       "      <th>state</th>\n",
       "      <th>lat</th>\n",
       "      <th>lon</th>\n",
       "      <th>area_m2</th>\n",
       "      <th>price_usd</th>\n",
       "    </tr>\n",
       "  </thead>\n",
       "  <tbody>\n",
       "    <tr>\n",
       "      <th>0</th>\n",
       "      <td>house</td>\n",
       "      <td>Estado de México</td>\n",
       "      <td>19.560181</td>\n",
       "      <td>-99.233528</td>\n",
       "      <td>150.0</td>\n",
       "      <td>$67,965.56</td>\n",
       "    </tr>\n",
       "    <tr>\n",
       "      <th>1</th>\n",
       "      <td>house</td>\n",
       "      <td>Nuevo León</td>\n",
       "      <td>25.688436</td>\n",
       "      <td>-100.198807</td>\n",
       "      <td>186.0</td>\n",
       "      <td>$63,223.78</td>\n",
       "    </tr>\n",
       "    <tr>\n",
       "      <th>2</th>\n",
       "      <td>apartment</td>\n",
       "      <td>Guerrero</td>\n",
       "      <td>16.767704</td>\n",
       "      <td>-99.764383</td>\n",
       "      <td>82.0</td>\n",
       "      <td>$84,298.37</td>\n",
       "    </tr>\n",
       "    <tr>\n",
       "      <th>3</th>\n",
       "      <td>apartment</td>\n",
       "      <td>Guerrero</td>\n",
       "      <td>16.829782</td>\n",
       "      <td>-99.911012</td>\n",
       "      <td>150.0</td>\n",
       "      <td>$94,308.80</td>\n",
       "    </tr>\n",
       "    <tr>\n",
       "      <th>4</th>\n",
       "      <td>house</td>\n",
       "      <td>Veracruz de Ignacio de la Llave</td>\n",
       "      <td>NaN</td>\n",
       "      <td>NaN</td>\n",
       "      <td>175.0</td>\n",
       "      <td>$94,835.67</td>\n",
       "    </tr>\n",
       "  </tbody>\n",
       "</table>\n",
       "</div>"
      ],
      "text/plain": [
       "  property_type                            state        lat         lon  \\\n",
       "0         house                 Estado de México  19.560181  -99.233528   \n",
       "1         house                       Nuevo León  25.688436 -100.198807   \n",
       "2     apartment                         Guerrero  16.767704  -99.764383   \n",
       "3     apartment                         Guerrero  16.829782  -99.911012   \n",
       "4         house  Veracruz de Ignacio de la Llave        NaN         NaN   \n",
       "\n",
       "   area_m2   price_usd  \n",
       "0    150.0  $67,965.56  \n",
       "1    186.0  $63,223.78  \n",
       "2     82.0  $84,298.37  \n",
       "3    150.0  $94,308.80  \n",
       "4    175.0  $94,835.67  "
      ]
     },
     "execution_count": 241,
     "metadata": {},
     "output_type": "execute_result"
    }
   ],
   "source": [
    "df1.head()"
   ]
  },
  {
   "cell_type": "code",
   "execution_count": 242,
   "id": "0ecf74b6",
   "metadata": {},
   "outputs": [],
   "source": [
    "## problem \n",
    "# 1. The dataset contains missing (null) values.\n",
    "\n",
    "# 2. The price_usd column is stored as a string, but \n",
    "# it should be converted to a float for proper numerical analysis.\n",
    "\n",
    "# 3 The price_usd values include special characters ($ and ,) \n",
    "# that need to be removed before converting the column to floats."
   ]
  },
  {
   "cell_type": "code",
   "execution_count": 243,
   "id": "d7eacd23",
   "metadata": {},
   "outputs": [],
   "source": [
    "## Solution of problem 1\n",
    "## remove NaN value\n",
    "df1.dropna(inplace=True)"
   ]
  },
  {
   "cell_type": "code",
   "execution_count": 244,
   "id": "11ddec2a",
   "metadata": {},
   "outputs": [
    {
     "name": "stdout",
     "output_type": "stream",
     "text": [
      "<class 'pandas.core.frame.DataFrame'>\n",
      "Index: 583 entries, 0 to 699\n",
      "Data columns (total 6 columns):\n",
      " #   Column         Non-Null Count  Dtype  \n",
      "---  ------         --------------  -----  \n",
      " 0   property_type  583 non-null    object \n",
      " 1   state          583 non-null    object \n",
      " 2   lat            583 non-null    float64\n",
      " 3   lon            583 non-null    float64\n",
      " 4   area_m2        583 non-null    float64\n",
      " 5   price_usd      583 non-null    object \n",
      "dtypes: float64(3), object(3)\n",
      "memory usage: 31.9+ KB\n"
     ]
    }
   ],
   "source": [
    "df1.info()"
   ]
  },
  {
   "cell_type": "code",
   "execution_count": 245,
   "id": "750286dd",
   "metadata": {},
   "outputs": [],
   "source": [
    "## solution of problem 2 and 3\n",
    "df1[\"price_usd\"]= (\n",
    "    df1[\"price_usd\"]\n",
    "    .str.replace(\"$\",\"\",regex=False)\n",
    "    .str.replace(\",\",\"\")\n",
    "    .astype(float))\n"
   ]
  },
  {
   "cell_type": "code",
   "execution_count": 246,
   "id": "d0d79415",
   "metadata": {},
   "outputs": [
    {
     "name": "stdout",
     "output_type": "stream",
     "text": [
      "<class 'pandas.core.frame.DataFrame'>\n",
      "Index: 583 entries, 0 to 699\n",
      "Data columns (total 6 columns):\n",
      " #   Column         Non-Null Count  Dtype  \n",
      "---  ------         --------------  -----  \n",
      " 0   property_type  583 non-null    object \n",
      " 1   state          583 non-null    object \n",
      " 2   lat            583 non-null    float64\n",
      " 3   lon            583 non-null    float64\n",
      " 4   area_m2        583 non-null    float64\n",
      " 5   price_usd      583 non-null    float64\n",
      "dtypes: float64(4), object(2)\n",
      "memory usage: 31.9+ KB\n"
     ]
    }
   ],
   "source": [
    "df1.info()"
   ]
  },
  {
   "cell_type": "markdown",
   "id": "6496eebe",
   "metadata": {},
   "source": [
    "##### Clean df2"
   ]
  },
  {
   "cell_type": "code",
   "execution_count": 247,
   "id": "ac325ac8",
   "metadata": {},
   "outputs": [
    {
     "data": {
      "text/plain": [
       "(700, 6)"
      ]
     },
     "execution_count": 247,
     "metadata": {},
     "output_type": "execute_result"
    }
   ],
   "source": [
    "df2.shape"
   ]
  },
  {
   "cell_type": "code",
   "execution_count": 248,
   "id": "f5e04c07",
   "metadata": {},
   "outputs": [
    {
     "name": "stdout",
     "output_type": "stream",
     "text": [
      "<class 'pandas.core.frame.DataFrame'>\n",
      "RangeIndex: 700 entries, 0 to 699\n",
      "Data columns (total 6 columns):\n",
      " #   Column         Non-Null Count  Dtype  \n",
      "---  ------         --------------  -----  \n",
      " 0   property_type  700 non-null    object \n",
      " 1   state          700 non-null    object \n",
      " 2   lat            571 non-null    float64\n",
      " 3   lon            571 non-null    float64\n",
      " 4   area_m2        700 non-null    float64\n",
      " 5   price_mxn      700 non-null    float64\n",
      "dtypes: float64(4), object(2)\n",
      "memory usage: 32.9+ KB\n"
     ]
    }
   ],
   "source": [
    "df2.info()"
   ]
  },
  {
   "cell_type": "code",
   "execution_count": 249,
   "id": "17c77d70",
   "metadata": {},
   "outputs": [
    {
     "data": {
      "text/html": [
       "<div>\n",
       "<style scoped>\n",
       "    .dataframe tbody tr th:only-of-type {\n",
       "        vertical-align: middle;\n",
       "    }\n",
       "\n",
       "    .dataframe tbody tr th {\n",
       "        vertical-align: top;\n",
       "    }\n",
       "\n",
       "    .dataframe thead th {\n",
       "        text-align: right;\n",
       "    }\n",
       "</style>\n",
       "<table border=\"1\" class=\"dataframe\">\n",
       "  <thead>\n",
       "    <tr style=\"text-align: right;\">\n",
       "      <th></th>\n",
       "      <th>property_type</th>\n",
       "      <th>state</th>\n",
       "      <th>lat</th>\n",
       "      <th>lon</th>\n",
       "      <th>area_m2</th>\n",
       "      <th>price_mxn</th>\n",
       "    </tr>\n",
       "  </thead>\n",
       "  <tbody>\n",
       "    <tr>\n",
       "      <th>0</th>\n",
       "      <td>apartment</td>\n",
       "      <td>Nuevo León</td>\n",
       "      <td>25.721081</td>\n",
       "      <td>-100.345581</td>\n",
       "      <td>72.0</td>\n",
       "      <td>1300000.0</td>\n",
       "    </tr>\n",
       "    <tr>\n",
       "      <th>1</th>\n",
       "      <td>apartment</td>\n",
       "      <td>Puebla</td>\n",
       "      <td>NaN</td>\n",
       "      <td>NaN</td>\n",
       "      <td>190.0</td>\n",
       "      <td>2500000.0</td>\n",
       "    </tr>\n",
       "    <tr>\n",
       "      <th>2</th>\n",
       "      <td>house</td>\n",
       "      <td>Morelos</td>\n",
       "      <td>23.634501</td>\n",
       "      <td>-102.552788</td>\n",
       "      <td>360.0</td>\n",
       "      <td>5300000.0</td>\n",
       "    </tr>\n",
       "    <tr>\n",
       "      <th>3</th>\n",
       "      <td>house</td>\n",
       "      <td>Morelos</td>\n",
       "      <td>NaN</td>\n",
       "      <td>NaN</td>\n",
       "      <td>76.0</td>\n",
       "      <td>820000.0</td>\n",
       "    </tr>\n",
       "    <tr>\n",
       "      <th>4</th>\n",
       "      <td>house</td>\n",
       "      <td>Puebla</td>\n",
       "      <td>NaN</td>\n",
       "      <td>NaN</td>\n",
       "      <td>200.0</td>\n",
       "      <td>1100000.0</td>\n",
       "    </tr>\n",
       "  </tbody>\n",
       "</table>\n",
       "</div>"
      ],
      "text/plain": [
       "  property_type       state        lat         lon  area_m2  price_mxn\n",
       "0     apartment  Nuevo León  25.721081 -100.345581     72.0  1300000.0\n",
       "1     apartment      Puebla        NaN         NaN    190.0  2500000.0\n",
       "2         house     Morelos  23.634501 -102.552788    360.0  5300000.0\n",
       "3         house     Morelos        NaN         NaN     76.0   820000.0\n",
       "4         house      Puebla        NaN         NaN    200.0  1100000.0"
      ]
     },
     "execution_count": 249,
     "metadata": {},
     "output_type": "execute_result"
    }
   ],
   "source": [
    "df2.head()"
   ]
  },
  {
   "cell_type": "code",
   "execution_count": 250,
   "id": "314a7fd3",
   "metadata": {},
   "outputs": [],
   "source": [
    "## problem\n",
    "# 1. The dataset contains some missing values.\n",
    "\n",
    "# 2. The price column is currently in MXN (Mexican Pesos), but it should be converted to USD."
   ]
  },
  {
   "cell_type": "code",
   "execution_count": 251,
   "id": "cb2cb37e",
   "metadata": {},
   "outputs": [],
   "source": [
    "## solution\n",
    "# problem 1\n",
    "df2.dropna(inplace=True)"
   ]
  },
  {
   "cell_type": "code",
   "execution_count": 252,
   "id": "afad8ea6",
   "metadata": {},
   "outputs": [
    {
     "data": {
      "text/html": [
       "<div>\n",
       "<style scoped>\n",
       "    .dataframe tbody tr th:only-of-type {\n",
       "        vertical-align: middle;\n",
       "    }\n",
       "\n",
       "    .dataframe tbody tr th {\n",
       "        vertical-align: top;\n",
       "    }\n",
       "\n",
       "    .dataframe thead th {\n",
       "        text-align: right;\n",
       "    }\n",
       "</style>\n",
       "<table border=\"1\" class=\"dataframe\">\n",
       "  <thead>\n",
       "    <tr style=\"text-align: right;\">\n",
       "      <th></th>\n",
       "      <th>property_type</th>\n",
       "      <th>state</th>\n",
       "      <th>lat</th>\n",
       "      <th>lon</th>\n",
       "      <th>area_m2</th>\n",
       "      <th>price_mxn</th>\n",
       "      <th>price_usd</th>\n",
       "    </tr>\n",
       "  </thead>\n",
       "  <tbody>\n",
       "    <tr>\n",
       "      <th>0</th>\n",
       "      <td>apartment</td>\n",
       "      <td>Nuevo León</td>\n",
       "      <td>25.721081</td>\n",
       "      <td>-100.345581</td>\n",
       "      <td>72.0</td>\n",
       "      <td>1300000.0</td>\n",
       "      <td>68421.05</td>\n",
       "    </tr>\n",
       "    <tr>\n",
       "      <th>2</th>\n",
       "      <td>house</td>\n",
       "      <td>Morelos</td>\n",
       "      <td>23.634501</td>\n",
       "      <td>-102.552788</td>\n",
       "      <td>360.0</td>\n",
       "      <td>5300000.0</td>\n",
       "      <td>278947.37</td>\n",
       "    </tr>\n",
       "    <tr>\n",
       "      <th>6</th>\n",
       "      <td>apartment</td>\n",
       "      <td>Estado de México</td>\n",
       "      <td>19.272040</td>\n",
       "      <td>-99.572013</td>\n",
       "      <td>85.0</td>\n",
       "      <td>1250000.0</td>\n",
       "      <td>65789.47</td>\n",
       "    </tr>\n",
       "    <tr>\n",
       "      <th>7</th>\n",
       "      <td>house</td>\n",
       "      <td>San Luis Potosí</td>\n",
       "      <td>22.138882</td>\n",
       "      <td>-100.996510</td>\n",
       "      <td>158.0</td>\n",
       "      <td>2120000.0</td>\n",
       "      <td>111578.95</td>\n",
       "    </tr>\n",
       "    <tr>\n",
       "      <th>8</th>\n",
       "      <td>apartment</td>\n",
       "      <td>Distrito Federal</td>\n",
       "      <td>19.394558</td>\n",
       "      <td>-99.129707</td>\n",
       "      <td>65.0</td>\n",
       "      <td>758190.0</td>\n",
       "      <td>39904.74</td>\n",
       "    </tr>\n",
       "  </tbody>\n",
       "</table>\n",
       "</div>"
      ],
      "text/plain": [
       "  property_type             state        lat         lon  area_m2  price_mxn  \\\n",
       "0     apartment        Nuevo León  25.721081 -100.345581     72.0  1300000.0   \n",
       "2         house           Morelos  23.634501 -102.552788    360.0  5300000.0   \n",
       "6     apartment  Estado de México  19.272040  -99.572013     85.0  1250000.0   \n",
       "7         house   San Luis Potosí  22.138882 -100.996510    158.0  2120000.0   \n",
       "8     apartment  Distrito Federal  19.394558  -99.129707     65.0   758190.0   \n",
       "\n",
       "   price_usd  \n",
       "0   68421.05  \n",
       "2  278947.37  \n",
       "6   65789.47  \n",
       "7  111578.95  \n",
       "8   39904.74  "
      ]
     },
     "execution_count": 252,
     "metadata": {},
     "output_type": "execute_result"
    }
   ],
   "source": [
    "## problem 2\n",
    "df2[\"price_usd\"]=(df2[\"price_mxn\"] / 19).round(2)\n",
    "df2.head()"
   ]
  },
  {
   "cell_type": "code",
   "execution_count": 253,
   "id": "0b73b9f5",
   "metadata": {},
   "outputs": [
    {
     "data": {
      "text/html": [
       "<div>\n",
       "<style scoped>\n",
       "    .dataframe tbody tr th:only-of-type {\n",
       "        vertical-align: middle;\n",
       "    }\n",
       "\n",
       "    .dataframe tbody tr th {\n",
       "        vertical-align: top;\n",
       "    }\n",
       "\n",
       "    .dataframe thead th {\n",
       "        text-align: right;\n",
       "    }\n",
       "</style>\n",
       "<table border=\"1\" class=\"dataframe\">\n",
       "  <thead>\n",
       "    <tr style=\"text-align: right;\">\n",
       "      <th></th>\n",
       "      <th>property_type</th>\n",
       "      <th>state</th>\n",
       "      <th>lat</th>\n",
       "      <th>lon</th>\n",
       "      <th>area_m2</th>\n",
       "      <th>price_usd</th>\n",
       "    </tr>\n",
       "  </thead>\n",
       "  <tbody>\n",
       "    <tr>\n",
       "      <th>0</th>\n",
       "      <td>apartment</td>\n",
       "      <td>Nuevo León</td>\n",
       "      <td>25.721081</td>\n",
       "      <td>-100.345581</td>\n",
       "      <td>72.0</td>\n",
       "      <td>68421.05</td>\n",
       "    </tr>\n",
       "    <tr>\n",
       "      <th>2</th>\n",
       "      <td>house</td>\n",
       "      <td>Morelos</td>\n",
       "      <td>23.634501</td>\n",
       "      <td>-102.552788</td>\n",
       "      <td>360.0</td>\n",
       "      <td>278947.37</td>\n",
       "    </tr>\n",
       "    <tr>\n",
       "      <th>6</th>\n",
       "      <td>apartment</td>\n",
       "      <td>Estado de México</td>\n",
       "      <td>19.272040</td>\n",
       "      <td>-99.572013</td>\n",
       "      <td>85.0</td>\n",
       "      <td>65789.47</td>\n",
       "    </tr>\n",
       "    <tr>\n",
       "      <th>7</th>\n",
       "      <td>house</td>\n",
       "      <td>San Luis Potosí</td>\n",
       "      <td>22.138882</td>\n",
       "      <td>-100.996510</td>\n",
       "      <td>158.0</td>\n",
       "      <td>111578.95</td>\n",
       "    </tr>\n",
       "    <tr>\n",
       "      <th>8</th>\n",
       "      <td>apartment</td>\n",
       "      <td>Distrito Federal</td>\n",
       "      <td>19.394558</td>\n",
       "      <td>-99.129707</td>\n",
       "      <td>65.0</td>\n",
       "      <td>39904.74</td>\n",
       "    </tr>\n",
       "  </tbody>\n",
       "</table>\n",
       "</div>"
      ],
      "text/plain": [
       "  property_type             state        lat         lon  area_m2  price_usd\n",
       "0     apartment        Nuevo León  25.721081 -100.345581     72.0   68421.05\n",
       "2         house           Morelos  23.634501 -102.552788    360.0  278947.37\n",
       "6     apartment  Estado de México  19.272040  -99.572013     85.0   65789.47\n",
       "7         house   San Luis Potosí  22.138882 -100.996510    158.0  111578.95\n",
       "8     apartment  Distrito Federal  19.394558  -99.129707     65.0   39904.74"
      ]
     },
     "execution_count": 253,
     "metadata": {},
     "output_type": "execute_result"
    }
   ],
   "source": [
    "## we need to drop price_mxn column\n",
    "df2.drop(columns=[\"price_mxn\"],inplace=True)\n",
    "df2.head()"
   ]
  },
  {
   "cell_type": "markdown",
   "id": "25110f5c",
   "metadata": {},
   "source": [
    "##### clean df3"
   ]
  },
  {
   "cell_type": "code",
   "execution_count": 254,
   "id": "8912f66e",
   "metadata": {},
   "outputs": [
    {
     "data": {
      "text/plain": [
       "(700, 5)"
      ]
     },
     "execution_count": 254,
     "metadata": {},
     "output_type": "execute_result"
    }
   ],
   "source": [
    "df3.shape"
   ]
  },
  {
   "cell_type": "code",
   "execution_count": 255,
   "id": "a55a50cd",
   "metadata": {},
   "outputs": [
    {
     "name": "stdout",
     "output_type": "stream",
     "text": [
      "<class 'pandas.core.frame.DataFrame'>\n",
      "RangeIndex: 700 entries, 0 to 699\n",
      "Data columns (total 5 columns):\n",
      " #   Column                   Non-Null Count  Dtype  \n",
      "---  ------                   --------------  -----  \n",
      " 0   property_type            700 non-null    object \n",
      " 1   place_with_parent_names  700 non-null    object \n",
      " 2   lat-lon                  582 non-null    object \n",
      " 3   area_m2                  700 non-null    float64\n",
      " 4   price_usd                700 non-null    float64\n",
      "dtypes: float64(2), object(3)\n",
      "memory usage: 27.5+ KB\n"
     ]
    }
   ],
   "source": [
    "df3.info()"
   ]
  },
  {
   "cell_type": "code",
   "execution_count": 256,
   "id": "d074b666",
   "metadata": {},
   "outputs": [],
   "source": [
    "## problem\n",
    "## 1. The dataset contains NaN (missing) values.\n",
    "\n",
    "## 2. Latitude and longitude are stored together in a single column, \n",
    "# but they should be separated into two distinct columns (lat and lon).\n",
    "\n",
    "## 3. The place column includes the parent’s name along with the location, \n",
    "# but we only need the state name extracted."
   ]
  },
  {
   "cell_type": "code",
   "execution_count": 257,
   "id": "5ec3dcd9",
   "metadata": {},
   "outputs": [],
   "source": [
    "## solution\n",
    "# problem 1\n",
    "df3.dropna(inplace=True)"
   ]
  },
  {
   "cell_type": "code",
   "execution_count": 258,
   "id": "661492ad",
   "metadata": {},
   "outputs": [
    {
     "data": {
      "text/plain": [
       "0       19.52589,-99.151703\n",
       "1    19.2640539,-99.5727534\n",
       "2      19.268629,-99.671722\n",
       "4      19.511938,-96.871956\n",
       "5     20.689157,-103.366728\n",
       "Name: lat-lon, dtype: object"
      ]
     },
     "execution_count": 258,
     "metadata": {},
     "output_type": "execute_result"
    }
   ],
   "source": [
    "df3[\"lat-lon\"].head()"
   ]
  },
  {
   "cell_type": "code",
   "execution_count": 259,
   "id": "46b307a4",
   "metadata": {},
   "outputs": [],
   "source": [
    "df3[[\"lat\", \"lon\"]] = df3[\"lat-lon\"].str.split(\",\", expand=True)\n"
   ]
  },
  {
   "cell_type": "code",
   "execution_count": 260,
   "id": "b06db1c5",
   "metadata": {},
   "outputs": [
    {
     "data": {
      "text/html": [
       "<div>\n",
       "<style scoped>\n",
       "    .dataframe tbody tr th:only-of-type {\n",
       "        vertical-align: middle;\n",
       "    }\n",
       "\n",
       "    .dataframe tbody tr th {\n",
       "        vertical-align: top;\n",
       "    }\n",
       "\n",
       "    .dataframe thead th {\n",
       "        text-align: right;\n",
       "    }\n",
       "</style>\n",
       "<table border=\"1\" class=\"dataframe\">\n",
       "  <thead>\n",
       "    <tr style=\"text-align: right;\">\n",
       "      <th></th>\n",
       "      <th>property_type</th>\n",
       "      <th>place_with_parent_names</th>\n",
       "      <th>lat-lon</th>\n",
       "      <th>area_m2</th>\n",
       "      <th>price_usd</th>\n",
       "      <th>lat</th>\n",
       "      <th>lon</th>\n",
       "    </tr>\n",
       "  </thead>\n",
       "  <tbody>\n",
       "    <tr>\n",
       "      <th>0</th>\n",
       "      <td>apartment</td>\n",
       "      <td>|México|Distrito Federal|Gustavo A. Madero|Acu...</td>\n",
       "      <td>19.52589,-99.151703</td>\n",
       "      <td>71.0</td>\n",
       "      <td>48550.59</td>\n",
       "      <td>19.52589</td>\n",
       "      <td>-99.151703</td>\n",
       "    </tr>\n",
       "    <tr>\n",
       "      <th>1</th>\n",
       "      <td>house</td>\n",
       "      <td>|México|Estado de México|Toluca|Metepec|</td>\n",
       "      <td>19.2640539,-99.5727534</td>\n",
       "      <td>233.0</td>\n",
       "      <td>168636.73</td>\n",
       "      <td>19.2640539</td>\n",
       "      <td>-99.5727534</td>\n",
       "    </tr>\n",
       "    <tr>\n",
       "      <th>2</th>\n",
       "      <td>house</td>\n",
       "      <td>|México|Estado de México|Toluca|Toluca de Lerd...</td>\n",
       "      <td>19.268629,-99.671722</td>\n",
       "      <td>300.0</td>\n",
       "      <td>86932.69</td>\n",
       "      <td>19.268629</td>\n",
       "      <td>-99.671722</td>\n",
       "    </tr>\n",
       "    <tr>\n",
       "      <th>4</th>\n",
       "      <td>apartment</td>\n",
       "      <td>|México|Veracruz de Ignacio de la Llave|Veracruz|</td>\n",
       "      <td>19.511938,-96.871956</td>\n",
       "      <td>84.0</td>\n",
       "      <td>68508.67</td>\n",
       "      <td>19.511938</td>\n",
       "      <td>-96.871956</td>\n",
       "    </tr>\n",
       "    <tr>\n",
       "      <th>5</th>\n",
       "      <td>house</td>\n",
       "      <td>|México|Jalisco|Guadalajara|</td>\n",
       "      <td>20.689157,-103.366728</td>\n",
       "      <td>175.0</td>\n",
       "      <td>102763.00</td>\n",
       "      <td>20.689157</td>\n",
       "      <td>-103.366728</td>\n",
       "    </tr>\n",
       "  </tbody>\n",
       "</table>\n",
       "</div>"
      ],
      "text/plain": [
       "  property_type                            place_with_parent_names  \\\n",
       "0     apartment  |México|Distrito Federal|Gustavo A. Madero|Acu...   \n",
       "1         house           |México|Estado de México|Toluca|Metepec|   \n",
       "2         house  |México|Estado de México|Toluca|Toluca de Lerd...   \n",
       "4     apartment  |México|Veracruz de Ignacio de la Llave|Veracruz|   \n",
       "5         house                       |México|Jalisco|Guadalajara|   \n",
       "\n",
       "                  lat-lon  area_m2  price_usd         lat          lon  \n",
       "0     19.52589,-99.151703     71.0   48550.59    19.52589   -99.151703  \n",
       "1  19.2640539,-99.5727534    233.0  168636.73  19.2640539  -99.5727534  \n",
       "2    19.268629,-99.671722    300.0   86932.69   19.268629   -99.671722  \n",
       "4    19.511938,-96.871956     84.0   68508.67   19.511938   -96.871956  \n",
       "5   20.689157,-103.366728    175.0  102763.00   20.689157  -103.366728  "
      ]
     },
     "execution_count": 260,
     "metadata": {},
     "output_type": "execute_result"
    }
   ],
   "source": [
    "df3.head()"
   ]
  },
  {
   "cell_type": "code",
   "execution_count": 261,
   "id": "a75df78b",
   "metadata": {},
   "outputs": [
    {
     "data": {
      "text/html": [
       "<div>\n",
       "<style scoped>\n",
       "    .dataframe tbody tr th:only-of-type {\n",
       "        vertical-align: middle;\n",
       "    }\n",
       "\n",
       "    .dataframe tbody tr th {\n",
       "        vertical-align: top;\n",
       "    }\n",
       "\n",
       "    .dataframe thead th {\n",
       "        text-align: right;\n",
       "    }\n",
       "</style>\n",
       "<table border=\"1\" class=\"dataframe\">\n",
       "  <thead>\n",
       "    <tr style=\"text-align: right;\">\n",
       "      <th></th>\n",
       "      <th>property_type</th>\n",
       "      <th>place_with_parent_names</th>\n",
       "      <th>lat-lon</th>\n",
       "      <th>area_m2</th>\n",
       "      <th>price_usd</th>\n",
       "      <th>lat</th>\n",
       "      <th>lon</th>\n",
       "    </tr>\n",
       "  </thead>\n",
       "  <tbody>\n",
       "    <tr>\n",
       "      <th>0</th>\n",
       "      <td>apartment</td>\n",
       "      <td>|México|Distrito Federal|Gustavo A. Madero|Acu...</td>\n",
       "      <td>19.52589,-99.151703</td>\n",
       "      <td>71.0</td>\n",
       "      <td>48550.59</td>\n",
       "      <td>19.52589</td>\n",
       "      <td>-99.151703</td>\n",
       "    </tr>\n",
       "    <tr>\n",
       "      <th>1</th>\n",
       "      <td>house</td>\n",
       "      <td>|México|Estado de México|Toluca|Metepec|</td>\n",
       "      <td>19.2640539,-99.5727534</td>\n",
       "      <td>233.0</td>\n",
       "      <td>168636.73</td>\n",
       "      <td>19.2640539</td>\n",
       "      <td>-99.5727534</td>\n",
       "    </tr>\n",
       "    <tr>\n",
       "      <th>2</th>\n",
       "      <td>house</td>\n",
       "      <td>|México|Estado de México|Toluca|Toluca de Lerd...</td>\n",
       "      <td>19.268629,-99.671722</td>\n",
       "      <td>300.0</td>\n",
       "      <td>86932.69</td>\n",
       "      <td>19.268629</td>\n",
       "      <td>-99.671722</td>\n",
       "    </tr>\n",
       "    <tr>\n",
       "      <th>4</th>\n",
       "      <td>apartment</td>\n",
       "      <td>|México|Veracruz de Ignacio de la Llave|Veracruz|</td>\n",
       "      <td>19.511938,-96.871956</td>\n",
       "      <td>84.0</td>\n",
       "      <td>68508.67</td>\n",
       "      <td>19.511938</td>\n",
       "      <td>-96.871956</td>\n",
       "    </tr>\n",
       "    <tr>\n",
       "      <th>5</th>\n",
       "      <td>house</td>\n",
       "      <td>|México|Jalisco|Guadalajara|</td>\n",
       "      <td>20.689157,-103.366728</td>\n",
       "      <td>175.0</td>\n",
       "      <td>102763.00</td>\n",
       "      <td>20.689157</td>\n",
       "      <td>-103.366728</td>\n",
       "    </tr>\n",
       "  </tbody>\n",
       "</table>\n",
       "</div>"
      ],
      "text/plain": [
       "  property_type                            place_with_parent_names  \\\n",
       "0     apartment  |México|Distrito Federal|Gustavo A. Madero|Acu...   \n",
       "1         house           |México|Estado de México|Toluca|Metepec|   \n",
       "2         house  |México|Estado de México|Toluca|Toluca de Lerd...   \n",
       "4     apartment  |México|Veracruz de Ignacio de la Llave|Veracruz|   \n",
       "5         house                       |México|Jalisco|Guadalajara|   \n",
       "\n",
       "                  lat-lon  area_m2  price_usd         lat          lon  \n",
       "0     19.52589,-99.151703     71.0   48550.59    19.52589   -99.151703  \n",
       "1  19.2640539,-99.5727534    233.0  168636.73  19.2640539  -99.5727534  \n",
       "2    19.268629,-99.671722    300.0   86932.69   19.268629   -99.671722  \n",
       "4    19.511938,-96.871956     84.0   68508.67   19.511938   -96.871956  \n",
       "5   20.689157,-103.366728    175.0  102763.00   20.689157  -103.366728  "
      ]
     },
     "execution_count": 261,
     "metadata": {},
     "output_type": "execute_result"
    }
   ],
   "source": [
    "df3.head()"
   ]
  },
  {
   "cell_type": "code",
   "execution_count": 262,
   "id": "2bb0b8f3",
   "metadata": {},
   "outputs": [
    {
     "data": {
      "text/plain": [
       "0    |México|Distrito Federal|Gustavo A. Madero|Acu...\n",
       "1             |México|Estado de México|Toluca|Metepec|\n",
       "2    |México|Estado de México|Toluca|Toluca de Lerd...\n",
       "4    |México|Veracruz de Ignacio de la Llave|Veracruz|\n",
       "5                         |México|Jalisco|Guadalajara|\n",
       "Name: place_with_parent_names, dtype: object"
      ]
     },
     "execution_count": 262,
     "metadata": {},
     "output_type": "execute_result"
    }
   ],
   "source": [
    "## problem 3\n",
    "df3[\"place_with_parent_names\"].head()"
   ]
  },
  {
   "cell_type": "code",
   "execution_count": 263,
   "id": "0b569024",
   "metadata": {},
   "outputs": [],
   "source": [
    "df3[\"state\"]=df3[\"place_with_parent_names\"].str.split(\"|\",expand=True)[2]"
   ]
  },
  {
   "cell_type": "code",
   "execution_count": 264,
   "id": "b664ee80",
   "metadata": {},
   "outputs": [
    {
     "data": {
      "text/html": [
       "<div>\n",
       "<style scoped>\n",
       "    .dataframe tbody tr th:only-of-type {\n",
       "        vertical-align: middle;\n",
       "    }\n",
       "\n",
       "    .dataframe tbody tr th {\n",
       "        vertical-align: top;\n",
       "    }\n",
       "\n",
       "    .dataframe thead th {\n",
       "        text-align: right;\n",
       "    }\n",
       "</style>\n",
       "<table border=\"1\" class=\"dataframe\">\n",
       "  <thead>\n",
       "    <tr style=\"text-align: right;\">\n",
       "      <th></th>\n",
       "      <th>property_type</th>\n",
       "      <th>place_with_parent_names</th>\n",
       "      <th>lat-lon</th>\n",
       "      <th>area_m2</th>\n",
       "      <th>price_usd</th>\n",
       "      <th>lat</th>\n",
       "      <th>lon</th>\n",
       "      <th>state</th>\n",
       "    </tr>\n",
       "  </thead>\n",
       "  <tbody>\n",
       "    <tr>\n",
       "      <th>0</th>\n",
       "      <td>apartment</td>\n",
       "      <td>|México|Distrito Federal|Gustavo A. Madero|Acu...</td>\n",
       "      <td>19.52589,-99.151703</td>\n",
       "      <td>71.0</td>\n",
       "      <td>48550.59</td>\n",
       "      <td>19.52589</td>\n",
       "      <td>-99.151703</td>\n",
       "      <td>Distrito Federal</td>\n",
       "    </tr>\n",
       "    <tr>\n",
       "      <th>1</th>\n",
       "      <td>house</td>\n",
       "      <td>|México|Estado de México|Toluca|Metepec|</td>\n",
       "      <td>19.2640539,-99.5727534</td>\n",
       "      <td>233.0</td>\n",
       "      <td>168636.73</td>\n",
       "      <td>19.2640539</td>\n",
       "      <td>-99.5727534</td>\n",
       "      <td>Estado de México</td>\n",
       "    </tr>\n",
       "    <tr>\n",
       "      <th>2</th>\n",
       "      <td>house</td>\n",
       "      <td>|México|Estado de México|Toluca|Toluca de Lerd...</td>\n",
       "      <td>19.268629,-99.671722</td>\n",
       "      <td>300.0</td>\n",
       "      <td>86932.69</td>\n",
       "      <td>19.268629</td>\n",
       "      <td>-99.671722</td>\n",
       "      <td>Estado de México</td>\n",
       "    </tr>\n",
       "    <tr>\n",
       "      <th>4</th>\n",
       "      <td>apartment</td>\n",
       "      <td>|México|Veracruz de Ignacio de la Llave|Veracruz|</td>\n",
       "      <td>19.511938,-96.871956</td>\n",
       "      <td>84.0</td>\n",
       "      <td>68508.67</td>\n",
       "      <td>19.511938</td>\n",
       "      <td>-96.871956</td>\n",
       "      <td>Veracruz de Ignacio de la Llave</td>\n",
       "    </tr>\n",
       "    <tr>\n",
       "      <th>5</th>\n",
       "      <td>house</td>\n",
       "      <td>|México|Jalisco|Guadalajara|</td>\n",
       "      <td>20.689157,-103.366728</td>\n",
       "      <td>175.0</td>\n",
       "      <td>102763.00</td>\n",
       "      <td>20.689157</td>\n",
       "      <td>-103.366728</td>\n",
       "      <td>Jalisco</td>\n",
       "    </tr>\n",
       "  </tbody>\n",
       "</table>\n",
       "</div>"
      ],
      "text/plain": [
       "  property_type                            place_with_parent_names  \\\n",
       "0     apartment  |México|Distrito Federal|Gustavo A. Madero|Acu...   \n",
       "1         house           |México|Estado de México|Toluca|Metepec|   \n",
       "2         house  |México|Estado de México|Toluca|Toluca de Lerd...   \n",
       "4     apartment  |México|Veracruz de Ignacio de la Llave|Veracruz|   \n",
       "5         house                       |México|Jalisco|Guadalajara|   \n",
       "\n",
       "                  lat-lon  area_m2  price_usd         lat          lon  \\\n",
       "0     19.52589,-99.151703     71.0   48550.59    19.52589   -99.151703   \n",
       "1  19.2640539,-99.5727534    233.0  168636.73  19.2640539  -99.5727534   \n",
       "2    19.268629,-99.671722    300.0   86932.69   19.268629   -99.671722   \n",
       "4    19.511938,-96.871956     84.0   68508.67   19.511938   -96.871956   \n",
       "5   20.689157,-103.366728    175.0  102763.00   20.689157  -103.366728   \n",
       "\n",
       "                             state  \n",
       "0                 Distrito Federal  \n",
       "1                 Estado de México  \n",
       "2                 Estado de México  \n",
       "4  Veracruz de Ignacio de la Llave  \n",
       "5                          Jalisco  "
      ]
     },
     "execution_count": 264,
     "metadata": {},
     "output_type": "execute_result"
    }
   ],
   "source": [
    "df3.head()"
   ]
  },
  {
   "cell_type": "code",
   "execution_count": 266,
   "id": "ae4afe55",
   "metadata": {},
   "outputs": [],
   "source": [
    "# drop place_with_parent_names and lat -lon columns\n",
    "df3.drop(columns=[\"place_with_parent_names\",\"lat-lon\"],inplace=True)"
   ]
  },
  {
   "cell_type": "code",
   "execution_count": 267,
   "id": "e55aff37",
   "metadata": {},
   "outputs": [
    {
     "data": {
      "text/html": [
       "<div>\n",
       "<style scoped>\n",
       "    .dataframe tbody tr th:only-of-type {\n",
       "        vertical-align: middle;\n",
       "    }\n",
       "\n",
       "    .dataframe tbody tr th {\n",
       "        vertical-align: top;\n",
       "    }\n",
       "\n",
       "    .dataframe thead th {\n",
       "        text-align: right;\n",
       "    }\n",
       "</style>\n",
       "<table border=\"1\" class=\"dataframe\">\n",
       "  <thead>\n",
       "    <tr style=\"text-align: right;\">\n",
       "      <th></th>\n",
       "      <th>property_type</th>\n",
       "      <th>area_m2</th>\n",
       "      <th>price_usd</th>\n",
       "      <th>lat</th>\n",
       "      <th>lon</th>\n",
       "      <th>state</th>\n",
       "    </tr>\n",
       "  </thead>\n",
       "  <tbody>\n",
       "    <tr>\n",
       "      <th>0</th>\n",
       "      <td>apartment</td>\n",
       "      <td>71.0</td>\n",
       "      <td>48550.59</td>\n",
       "      <td>19.52589</td>\n",
       "      <td>-99.151703</td>\n",
       "      <td>Distrito Federal</td>\n",
       "    </tr>\n",
       "    <tr>\n",
       "      <th>1</th>\n",
       "      <td>house</td>\n",
       "      <td>233.0</td>\n",
       "      <td>168636.73</td>\n",
       "      <td>19.2640539</td>\n",
       "      <td>-99.5727534</td>\n",
       "      <td>Estado de México</td>\n",
       "    </tr>\n",
       "    <tr>\n",
       "      <th>2</th>\n",
       "      <td>house</td>\n",
       "      <td>300.0</td>\n",
       "      <td>86932.69</td>\n",
       "      <td>19.268629</td>\n",
       "      <td>-99.671722</td>\n",
       "      <td>Estado de México</td>\n",
       "    </tr>\n",
       "    <tr>\n",
       "      <th>4</th>\n",
       "      <td>apartment</td>\n",
       "      <td>84.0</td>\n",
       "      <td>68508.67</td>\n",
       "      <td>19.511938</td>\n",
       "      <td>-96.871956</td>\n",
       "      <td>Veracruz de Ignacio de la Llave</td>\n",
       "    </tr>\n",
       "    <tr>\n",
       "      <th>5</th>\n",
       "      <td>house</td>\n",
       "      <td>175.0</td>\n",
       "      <td>102763.00</td>\n",
       "      <td>20.689157</td>\n",
       "      <td>-103.366728</td>\n",
       "      <td>Jalisco</td>\n",
       "    </tr>\n",
       "  </tbody>\n",
       "</table>\n",
       "</div>"
      ],
      "text/plain": [
       "  property_type  area_m2  price_usd         lat          lon  \\\n",
       "0     apartment     71.0   48550.59    19.52589   -99.151703   \n",
       "1         house    233.0  168636.73  19.2640539  -99.5727534   \n",
       "2         house    300.0   86932.69   19.268629   -99.671722   \n",
       "4     apartment     84.0   68508.67   19.511938   -96.871956   \n",
       "5         house    175.0  102763.00   20.689157  -103.366728   \n",
       "\n",
       "                             state  \n",
       "0                 Distrito Federal  \n",
       "1                 Estado de México  \n",
       "2                 Estado de México  \n",
       "4  Veracruz de Ignacio de la Llave  \n",
       "5                          Jalisco  "
      ]
     },
     "execution_count": 267,
     "metadata": {},
     "output_type": "execute_result"
    }
   ],
   "source": [
    "df3.head()"
   ]
  },
  {
   "cell_type": "markdown",
   "id": "90951943",
   "metadata": {},
   "source": [
    "##### Concatenate DataFrames¶"
   ]
  },
  {
   "cell_type": "code",
   "execution_count": 268,
   "id": "88d70ca2",
   "metadata": {},
   "outputs": [
    {
     "name": "stdout",
     "output_type": "stream",
     "text": [
      "(1736, 6)\n"
     ]
    },
    {
     "data": {
      "text/html": [
       "<div>\n",
       "<style scoped>\n",
       "    .dataframe tbody tr th:only-of-type {\n",
       "        vertical-align: middle;\n",
       "    }\n",
       "\n",
       "    .dataframe tbody tr th {\n",
       "        vertical-align: top;\n",
       "    }\n",
       "\n",
       "    .dataframe thead th {\n",
       "        text-align: right;\n",
       "    }\n",
       "</style>\n",
       "<table border=\"1\" class=\"dataframe\">\n",
       "  <thead>\n",
       "    <tr style=\"text-align: right;\">\n",
       "      <th></th>\n",
       "      <th>property_type</th>\n",
       "      <th>state</th>\n",
       "      <th>lat</th>\n",
       "      <th>lon</th>\n",
       "      <th>area_m2</th>\n",
       "      <th>price_usd</th>\n",
       "    </tr>\n",
       "  </thead>\n",
       "  <tbody>\n",
       "    <tr>\n",
       "      <th>0</th>\n",
       "      <td>house</td>\n",
       "      <td>Estado de México</td>\n",
       "      <td>19.560181</td>\n",
       "      <td>-99.233528</td>\n",
       "      <td>150.0</td>\n",
       "      <td>67965.56</td>\n",
       "    </tr>\n",
       "    <tr>\n",
       "      <th>1</th>\n",
       "      <td>house</td>\n",
       "      <td>Nuevo León</td>\n",
       "      <td>25.688436</td>\n",
       "      <td>-100.198807</td>\n",
       "      <td>186.0</td>\n",
       "      <td>63223.78</td>\n",
       "    </tr>\n",
       "    <tr>\n",
       "      <th>2</th>\n",
       "      <td>apartment</td>\n",
       "      <td>Guerrero</td>\n",
       "      <td>16.767704</td>\n",
       "      <td>-99.764383</td>\n",
       "      <td>82.0</td>\n",
       "      <td>84298.37</td>\n",
       "    </tr>\n",
       "    <tr>\n",
       "      <th>3</th>\n",
       "      <td>apartment</td>\n",
       "      <td>Guerrero</td>\n",
       "      <td>16.829782</td>\n",
       "      <td>-99.911012</td>\n",
       "      <td>150.0</td>\n",
       "      <td>94308.80</td>\n",
       "    </tr>\n",
       "    <tr>\n",
       "      <th>5</th>\n",
       "      <td>house</td>\n",
       "      <td>Yucatán</td>\n",
       "      <td>21.052583</td>\n",
       "      <td>-89.538639</td>\n",
       "      <td>205.0</td>\n",
       "      <td>105191.37</td>\n",
       "    </tr>\n",
       "  </tbody>\n",
       "</table>\n",
       "</div>"
      ],
      "text/plain": [
       "  property_type             state        lat         lon  area_m2  price_usd\n",
       "0         house  Estado de México  19.560181  -99.233528    150.0   67965.56\n",
       "1         house        Nuevo León  25.688436 -100.198807    186.0   63223.78\n",
       "2     apartment          Guerrero  16.767704  -99.764383     82.0   84298.37\n",
       "3     apartment          Guerrero  16.829782  -99.911012    150.0   94308.80\n",
       "5         house           Yucatán  21.052583  -89.538639    205.0  105191.37"
      ]
     },
     "execution_count": 268,
     "metadata": {},
     "output_type": "execute_result"
    }
   ],
   "source": [
    "df =pd.concat([df1,df2,df3])\n",
    "print(df.shape)\n",
    "df.head()"
   ]
  },
  {
   "cell_type": "markdown",
   "id": "548668cc",
   "metadata": {},
   "source": [
    "##### Save df"
   ]
  },
  {
   "cell_type": "code",
   "execution_count": 269,
   "id": "20b77b5f",
   "metadata": {},
   "outputs": [],
   "source": [
    "df.to_csv(\"mexico-real-estate-clean.csv\",index=False)"
   ]
  }
 ],
 "metadata": {
  "kernelspec": {
   "display_name": "Python 3",
   "language": "python",
   "name": "python3"
  },
  "language_info": {
   "codemirror_mode": {
    "name": "ipython",
    "version": 3
   },
   "file_extension": ".py",
   "mimetype": "text/x-python",
   "name": "python",
   "nbconvert_exporter": "python",
   "pygments_lexer": "ipython3",
   "version": "3.13.3"
  }
 },
 "nbformat": 4,
 "nbformat_minor": 5
}
