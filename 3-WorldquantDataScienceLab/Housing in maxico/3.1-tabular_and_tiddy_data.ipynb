{
 "cells": [
  {
   "cell_type": "markdown",
   "id": "854dfd69",
   "metadata": {},
   "source": [
    "#### What's Tabular Data?\n",
    "<img src=\"tabularDAta.png\" width=\"500\"/>"
   ]
  },
  {
   "cell_type": "markdown",
   "id": "80bc9d26",
   "metadata": {},
   "source": [
    "##### Working with List"
   ]
  },
  {
   "cell_type": "code",
   "execution_count": 2,
   "id": "dec8cc49",
   "metadata": {},
   "outputs": [
    {
     "data": {
      "text/plain": [
       "[115910, 128, 4]"
      ]
     },
     "execution_count": 2,
     "metadata": {},
     "output_type": "execute_result"
    }
   ],
   "source": [
    "house_0_list = [115910,128,4]\n",
    "house_0_list"
   ]
  },
  {
   "cell_type": "code",
   "execution_count": 3,
   "id": "9b676326",
   "metadata": {},
   "outputs": [
    {
     "data": {
      "text/plain": [
       "905.546875"
      ]
     },
     "execution_count": 3,
     "metadata": {},
     "output_type": "execute_result"
    }
   ],
   "source": [
    "house_0_price =house_0_list[0]\n",
    "house_0_area =house_0_list[1]\n",
    "house_0_price_m2 = house_0_price / house_0_area\n",
    "house_0_price_m2"
   ]
  },
  {
   "cell_type": "code",
   "execution_count": 4,
   "id": "44219d5a",
   "metadata": {},
   "outputs": [
    {
     "data": {
      "text/plain": [
       "[115910, 128, 4, 905.546875]"
      ]
     },
     "execution_count": 4,
     "metadata": {},
     "output_type": "execute_result"
    }
   ],
   "source": [
    "## append an itea to a list in python\n",
    "house_0_list.append(house_0_price_m2)\n",
    "house_0_list"
   ]
  },
  {
   "cell_type": "markdown",
   "id": "2a39051b",
   "metadata": {},
   "source": [
    "##### Nested List"
   ]
  },
  {
   "cell_type": "code",
   "execution_count": 5,
   "id": "86058515",
   "metadata": {},
   "outputs": [
    {
     "data": {
      "text/plain": [
       "[[115910.26, 128.0, 4.0],\n",
       " [48718.17, 210.0, 3.0],\n",
       " [28977.56, 58.0, 2.0],\n",
       " [36932.27, 79.0, 3.0],\n",
       " [83903.51, 111.0, 3.0]]"
      ]
     },
     "execution_count": 5,
     "metadata": {},
     "output_type": "execute_result"
    }
   ],
   "source": [
    "houses_nested_list = [\n",
    "     [115910.26, 128.0, 4.0],\n",
    "    [48718.17, 210.0, 3.0],\n",
    "    [28977.56, 58.0, 2.0],\n",
    "    [36932.27, 79.0, 3.0],\n",
    "    [83903.51, 111.0, 3.0],\n",
    "]\n",
    "houses_nested_list"
   ]
  },
  {
   "cell_type": "code",
   "execution_count": 6,
   "id": "a89d41a6",
   "metadata": {},
   "outputs": [
    {
     "data": {
      "text/plain": [
       "[[115910.26, 128.0, 4.0, 905.54890625],\n",
       " [48718.17, 210.0, 3.0, 231.9912857142857],\n",
       " [28977.56, 58.0, 2.0, 499.61310344827587],\n",
       " [36932.27, 79.0, 3.0, 467.4970886075949],\n",
       " [83903.51, 111.0, 3.0, 755.8874774774774]]"
      ]
     },
     "execution_count": 6,
     "metadata": {},
     "output_type": "execute_result"
    }
   ],
   "source": [
    "### append the price per sqm to each observation\n",
    "for house in houses_nested_list:\n",
    "    price_m2 =house[0] /house[1]\n",
    "    house.append(price_m2)\n",
    "houses_nested_list\n"
   ]
  },
  {
   "cell_type": "markdown",
   "id": "728fecf4",
   "metadata": {},
   "source": [
    "##### Working with Dictionaries\n",
    "\n",
    "- Lists only store values, so it’s hard to know what each number means. \n",
    "For example, `[115910.26, 128.0, 4]` \n",
    "doesn’t tell us which is price, area, or rooms. A dictionary is better because it uses keys, making the data clear, like:\n",
    "\n",
    "```python\n",
    "house_0 = {\"price\": 115910.26, \"area\": 128.0, \"rooms\": 4}\n",
    "```\n",
    "\n",
    "This way, each value has meaning. \n"
   ]
  },
  {
   "cell_type": "code",
   "execution_count": 7,
   "id": "b1ec357f",
   "metadata": {},
   "outputs": [
    {
     "data": {
      "text/plain": [
       "{'price_aprox_usd': 115910.26, 'surface_covered_in_m2': 128, 'rooms': 4}"
      ]
     },
     "execution_count": 7,
     "metadata": {},
     "output_type": "execute_result"
    }
   ],
   "source": [
    "house_0_dict = {\n",
    "    \"price_aprox_usd\": 115910.26,\n",
    "    \"surface_covered_in_m2\": 128,\n",
    "    \"rooms\" : 4\n",
    "}\n",
    "house_0_dict"
   ]
  },
  {
   "cell_type": "code",
   "execution_count": 8,
   "id": "eed828a2",
   "metadata": {},
   "outputs": [],
   "source": [
    "# Add \"price_per_m2\" key-value pair to `house_0_dict`\n",
    "house_0_dict[\"price_per_m2\"]= house_0_dict[\"price_aprox_usd\"] / house_0_dict[\"surface_covered_in_m2\"]"
   ]
  },
  {
   "cell_type": "code",
   "execution_count": 9,
   "id": "c2db5e50",
   "metadata": {},
   "outputs": [
    {
     "data": {
      "text/plain": [
       "{'price_aprox_usd': 115910.26,\n",
       " 'surface_covered_in_m2': 128,\n",
       " 'rooms': 4,\n",
       " 'price_per_m2': 905.54890625}"
      ]
     },
     "execution_count": 9,
     "metadata": {},
     "output_type": "execute_result"
    }
   ],
   "source": [
    "house_0_dict"
   ]
  },
  {
   "cell_type": "code",
   "execution_count": 14,
   "id": "2e93cc51",
   "metadata": {},
   "outputs": [
    {
     "data": {
      "text/plain": [
       "[{'price_approx_usd': 115910.26, 'surface_covered_in_m2': 128, 'rooms': 4},\n",
       " {'price_approx_usd': 48718.17, 'surface_covered_in_m2': 210, 'rooms': 3},\n",
       " {'price_approx_usd': 28977.56, 'surface_covered_in_m2': 58, 'rooms': 2},\n",
       " {'price_approx_usd': 36932.27, 'surface_covered_in_m2': 79, 'rooms': 3},\n",
       " {'price_approx_usd': 83903.51, 'surface_covered_in_m2': 111, 'rooms': 3}]"
      ]
     },
     "execution_count": 14,
     "metadata": {},
     "output_type": "execute_result"
    }
   ],
   "source": [
    "# Declare variable `houses_rowwise`\n",
    "houses_rowwise = [\n",
    "    {\n",
    "        \"price_approx_usd\": 115910.26,\n",
    "        \"surface_covered_in_m2\": 128,\n",
    "        \"rooms\": 4,\n",
    "    },\n",
    "    {\n",
    "        \"price_approx_usd\": 48718.17,\n",
    "        \"surface_covered_in_m2\": 210,\n",
    "        \"rooms\": 3,\n",
    "    },\n",
    "    {\n",
    "        \"price_approx_usd\": 28977.56,\n",
    "        \"surface_covered_in_m2\": 58,\n",
    "        \"rooms\": 2,\n",
    "    },\n",
    "    {\n",
    "        \"price_approx_usd\": 36932.27,\n",
    "        \"surface_covered_in_m2\": 79,\n",
    "        \"rooms\": 3,\n",
    "    },\n",
    "    {\n",
    "        \"price_approx_usd\": 83903.51,\n",
    "        \"surface_covered_in_m2\": 111,\n",
    "        \"rooms\": 3,\n",
    "    },\n",
    "]\n",
    "\n",
    "houses_rowwise"
   ]
  },
  {
   "cell_type": "code",
   "execution_count": 13,
   "id": "e358edb0",
   "metadata": {},
   "outputs": [
    {
     "data": {
      "text/plain": [
       "[{'price_approx_usd': 115910.26,\n",
       "  'surface_covered_in_m2': 128,\n",
       "  'rooms': 4,\n",
       "  'price_per_m2': 905.54890625},\n",
       " {'price_approx_usd': 48718.17,\n",
       "  'surface_covered_in_m2': 210,\n",
       "  'rooms': 3,\n",
       "  'price_per_m2': 231.9912857142857},\n",
       " {'price_approx_usd': 28977.56,\n",
       "  'surface_covered_in_m2': 58,\n",
       "  'rooms': 2,\n",
       "  'price_per_m2': 499.61310344827587},\n",
       " {'price_approx_usd': 36932.27,\n",
       "  'surface_covered_in_m2': 79,\n",
       "  'rooms': 3,\n",
       "  'price_per_m2': 467.4970886075949},\n",
       " {'price_approx_usd': 83903.51,\n",
       "  'surface_covered_in_m2': 111,\n",
       "  'rooms': 3,\n",
       "  'price_per_m2': 755.8874774774774}]"
      ]
     },
     "execution_count": 13,
     "metadata": {},
     "output_type": "execute_result"
    }
   ],
   "source": [
    "for house in houses_rowwise:\n",
    "    house[\"price_per_m2\"]= house[\"price_approx_usd\"] / house[\"surface_covered_in_m2\"]\n",
    "houses_rowwise"
   ]
  },
  {
   "cell_type": "code",
   "execution_count": 21,
   "id": "8b9bfb10",
   "metadata": {},
   "outputs": [
    {
     "data": {
      "text/plain": [
       "62888.35399999999"
      ]
     },
     "execution_count": 21,
     "metadata": {},
     "output_type": "execute_result"
    }
   ],
   "source": [
    "house_price =[]\n",
    "for house in houses_rowwise:\n",
    "    house_price.append(house[\"price_approx_usd\"])\n",
    "house_mean_price =sum(house_price) /len(house_price)\n",
    "house_mean_price"
   ]
  },
  {
   "cell_type": "markdown",
   "id": "c9d241e0",
   "metadata": {},
   "source": [
    "One way to make calculations easier is to organize data by features instead of observations. We’ll still use dictionaries and lists, just structured differently.\n"
   ]
  },
  {
   "cell_type": "code",
   "execution_count": 22,
   "id": "3fb129f8",
   "metadata": {},
   "outputs": [
    {
     "data": {
      "text/plain": [
       "{'price_approx_usd': [115910.26, 48718.17, 28977.56, 36932.27, 83903.51],\n",
       " 'surface_covered_in_m2': [128.0, 210.0, 58.0, 79.0, 111.0],\n",
       " 'rooms': [4.0, 3.0, 2.0, 3.0, 3.0]}"
      ]
     },
     "execution_count": 22,
     "metadata": {},
     "output_type": "execute_result"
    }
   ],
   "source": [
    "# Declare variable `houses_columnwise`\n",
    "houses_columnwise = {\n",
    "    \"price_approx_usd\": [115910.26, 48718.17, 28977.56, 36932.27, 83903.51],\n",
    "    \"surface_covered_in_m2\": [128.0, 210.0, 58.0, 79.0, 111.0],\n",
    "    \"rooms\": [4.0, 3.0, 2.0, 3.0, 3.0],\n",
    "}\n",
    "houses_columnwise"
   ]
  },
  {
   "cell_type": "code",
   "execution_count": 23,
   "id": "6d2dbdfc",
   "metadata": {},
   "outputs": [
    {
     "data": {
      "text/plain": [
       "62888.35399999999"
      ]
     },
     "execution_count": 23,
     "metadata": {},
     "output_type": "execute_result"
    }
   ],
   "source": [
    "# mean house price\n",
    "\n",
    "mean_house_price =sum(houses_columnwise[\"price_approx_usd\"]) / len(houses_columnwise[\"price_approx_usd\"])\n",
    "mean_house_price\n"
   ]
  },
  {
   "cell_type": "code",
   "execution_count": 40,
   "id": "0be7744c",
   "metadata": {},
   "outputs": [
    {
     "data": {
      "text/plain": [
       "{'price_approx_usd': [115910.26, 48718.17, 28977.56, 36932.27, 83903.51],\n",
       " 'surface_covered_in_m2': [128.0, 210.0, 58.0, 79.0, 111.0],\n",
       " 'rooms': [4.0, 3.0, 2.0, 3.0, 3.0],\n",
       " 'price_per_m2': [905.54890625,\n",
       "  231.9912857142857,\n",
       "  499.61310344827587,\n",
       "  467.4970886075949,\n",
       "  755.8874774774774]}"
      ]
     },
     "execution_count": 40,
     "metadata": {},
     "output_type": "execute_result"
    }
   ],
   "source": [
    "## create price_per_m2 in houses_columnwise\n",
    "price= houses_columnwise[\"price_approx_usd\"]\n",
    "area =houses_columnwise[\"surface_covered_in_m2\"]\n",
    "\n",
    "price_per_m2=[]\n",
    "for p,a in zip(price ,area):\n",
    "    price_m2 =p / a\n",
    "    price_per_m2.append(price_m2)\n",
    "houses_columnwise[\"price_per_m2\"] = price_per_m2\n",
    "houses_columnwise\n"
   ]
  },
  {
   "cell_type": "markdown",
   "id": "7e71243c",
   "metadata": {},
   "source": [
    "JSON is great for organizing data, but it has downsides. Each dictionary is like a row, so row-wise tasks (e.g., price per sq. meter) are easy. But column-wise tasks (like mean house price) require extra steps—first gather all prices into a list, then calculate the mean."
   ]
  },
  {
   "cell_type": "markdown",
   "id": "08e1c1f9",
   "metadata": {},
   "source": [
    "##### Tabular Data and pandas DataFrames"
   ]
  },
  {
   "cell_type": "code",
   "execution_count": 1,
   "id": "2e476999",
   "metadata": {},
   "outputs": [],
   "source": [
    "import pandas as pd"
   ]
  },
  {
   "cell_type": "code",
   "execution_count": 2,
   "id": "315bbea6",
   "metadata": {},
   "outputs": [
    {
     "data": {
      "text/html": [
       "<div>\n",
       "<style scoped>\n",
       "    .dataframe tbody tr th:only-of-type {\n",
       "        vertical-align: middle;\n",
       "    }\n",
       "\n",
       "    .dataframe tbody tr th {\n",
       "        vertical-align: top;\n",
       "    }\n",
       "\n",
       "    .dataframe thead th {\n",
       "        text-align: right;\n",
       "    }\n",
       "</style>\n",
       "<table border=\"1\" class=\"dataframe\">\n",
       "  <thead>\n",
       "    <tr style=\"text-align: right;\">\n",
       "      <th></th>\n",
       "      <th>price_approx_usd</th>\n",
       "      <th>surface_covered_in_m2</th>\n",
       "      <th>rooms</th>\n",
       "    </tr>\n",
       "  </thead>\n",
       "  <tbody>\n",
       "    <tr>\n",
       "      <th>0</th>\n",
       "      <td>115910.26</td>\n",
       "      <td>128.0</td>\n",
       "      <td>4.0</td>\n",
       "    </tr>\n",
       "    <tr>\n",
       "      <th>1</th>\n",
       "      <td>48718.17</td>\n",
       "      <td>210.0</td>\n",
       "      <td>3.0</td>\n",
       "    </tr>\n",
       "    <tr>\n",
       "      <th>2</th>\n",
       "      <td>28977.56</td>\n",
       "      <td>58.0</td>\n",
       "      <td>2.0</td>\n",
       "    </tr>\n",
       "    <tr>\n",
       "      <th>3</th>\n",
       "      <td>36932.27</td>\n",
       "      <td>79.0</td>\n",
       "      <td>3.0</td>\n",
       "    </tr>\n",
       "    <tr>\n",
       "      <th>4</th>\n",
       "      <td>83903.51</td>\n",
       "      <td>111.0</td>\n",
       "      <td>3.0</td>\n",
       "    </tr>\n",
       "  </tbody>\n",
       "</table>\n",
       "</div>"
      ],
      "text/plain": [
       "   price_approx_usd  surface_covered_in_m2  rooms\n",
       "0         115910.26                  128.0    4.0\n",
       "1          48718.17                  210.0    3.0\n",
       "2          28977.56                   58.0    2.0\n",
       "3          36932.27                   79.0    3.0\n",
       "4          83903.51                  111.0    3.0"
      ]
     },
     "execution_count": 2,
     "metadata": {},
     "output_type": "execute_result"
    }
   ],
   "source": [
    "data = {\n",
    "     \"price_approx_usd\": [115910.26, 48718.17, 28977.56, 36932.27, 83903.51],\n",
    "    \"surface_covered_in_m2\": [128.0, 210.0, 58.0, 79.0, 111.0],\n",
    "    \"rooms\": [4.0, 3.0, 2.0, 3.0, 3.0],\n",
    "}\n",
    "df_houses =pd.DataFrame(data)\n",
    "df_houses"
   ]
  },
  {
   "cell_type": "code",
   "execution_count": null,
   "id": "bf9f2a47",
   "metadata": {},
   "outputs": [],
   "source": []
  }
 ],
 "metadata": {
  "kernelspec": {
   "display_name": "Python 3",
   "language": "python",
   "name": "python3"
  },
  "language_info": {
   "codemirror_mode": {
    "name": "ipython",
    "version": 3
   },
   "file_extension": ".py",
   "mimetype": "text/x-python",
   "name": "python",
   "nbconvert_exporter": "python",
   "pygments_lexer": "ipython3",
   "version": "3.13.3"
  }
 },
 "nbformat": 4,
 "nbformat_minor": 5
}
