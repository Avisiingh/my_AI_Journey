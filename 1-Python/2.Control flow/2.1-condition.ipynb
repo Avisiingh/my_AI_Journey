{
 "cells": [
  {
   "cell_type": "markdown",
   "id": "44be7632",
   "metadata": {},
   "source": [
    "##### Conditional Statements (if, elif, else)"
   ]
  },
  {
   "cell_type": "code",
   "execution_count": 5,
   "id": "6fdf1e55",
   "metadata": {},
   "outputs": [
    {
     "name": "stdout",
     "output_type": "stream",
     "text": [
      "You are allowed to vote in the elections\n"
     ]
    }
   ],
   "source": [
    "## if statement\n",
    "age=20\n",
    "\n",
    "if age>=18:\n",
    "    print(\"You are allowed to vote in the elections\")"
   ]
  },
  {
   "cell_type": "code",
   "execution_count": 6,
   "id": "08bfc861",
   "metadata": {},
   "outputs": [
    {
     "data": {
      "text/plain": [
       "True"
      ]
     },
     "execution_count": 6,
     "metadata": {},
     "output_type": "execute_result"
    }
   ],
   "source": [
    "age>=18"
   ]
  },
  {
   "cell_type": "code",
   "execution_count": 7,
   "id": "51e191fa",
   "metadata": {},
   "outputs": [
    {
     "name": "stdout",
     "output_type": "stream",
     "text": [
      "You are a minor\n"
     ]
    }
   ],
   "source": [
    "## else\n",
    "## The else statement executes a block of code if the condition in the if statement is False.\n",
    "\n",
    "age=16\n",
    "\n",
    "if age>=18:\n",
    "    print(\"You are eligible for voting\")\n",
    "else:\n",
    "    print(\"You are a minor\")"
   ]
  },
  {
   "cell_type": "code",
   "execution_count": 3,
   "id": "31e6e176",
   "metadata": {},
   "outputs": [
    {
     "name": "stdout",
     "output_type": "stream",
     "text": [
      "You are a teenager\n"
     ]
    }
   ],
   "source": [
    "## elif\n",
    "## The elif statement allows you to check multiple conditions. It stands for \"else if\"\n",
    "\n",
    "age=17\n",
    "\n",
    "if age<13:\n",
    "    print(\"You are a child\")\n",
    "elif age<18:\n",
    "    print(\"You are a teenager\")\n",
    "else:\n",
    "    print(\"You are an adult\")"
   ]
  },
  {
   "cell_type": "code",
   "execution_count": 8,
   "id": "c6ff8765",
   "metadata": {},
   "outputs": [
    {
     "name": "stdout",
     "output_type": "stream",
     "text": [
      "The number is positive\n",
      "The number is even\n"
     ]
    }
   ],
   "source": [
    "## Nested Condiitonal Statements\n",
    "\n",
    "# You can place one or more if, elif, or else statements inside another if, elif, or else statement to create nested conditional statements.\n",
    "\n",
    "## number even ,odd,negative\n",
    "\n",
    "num=int(input(\"Enter the number\"))\n",
    "\n",
    "if num>0:\n",
    "    print(\"The number is positive\")\n",
    "    if num%2==0:\n",
    "        print(\"The number is even\")\n",
    "    else:\n",
    "        print(\"The number is odd\")\n",
    "\n",
    "else:\n",
    "    print(\"The number is zero or negative\")"
   ]
  },
  {
   "cell_type": "code",
   "execution_count": 9,
   "id": "3270a953",
   "metadata": {},
   "outputs": [
    {
     "name": "stdout",
     "output_type": "stream",
     "text": [
      "1950 is not a leap year\n"
     ]
    }
   ],
   "source": [
    "## Practical Examples\n",
    "\n",
    "## Determine if a year is a leap year using nested condition statement\n",
    "\n",
    "year=int(input(\"Enter the year\"))\n",
    "\n",
    "if year%4==0:\n",
    "    if year%100==0:\n",
    "        if year%400==0:\n",
    "            print(year,\"is a leap year\")\n",
    "        else:\n",
    "            print(year,\"is not a leap year\")\n",
    "    else:\n",
    "        print(year,\"is a leap year\")\n",
    "\n",
    "else:\n",
    "    print(year,\"is not a leap year\")"
   ]
  },
  {
   "cell_type": "code",
   "execution_count": 15,
   "id": "56a037b1",
   "metadata": {},
   "outputs": [
    {
     "name": "stdout",
     "output_type": "stream",
     "text": [
      "multiplication: 0\n"
     ]
    }
   ],
   "source": [
    "## Assignment\n",
    "## Simple Calculator program\n",
    "num1 =int(input(\"Enter your number: \"))\n",
    "operator =input(\"enter operator: \").strip()\n",
    "num2 =int(input(\"Enter your number: \"))\n",
    "if operator == '+':\n",
    "    print(f\"sum: {num1 + num2}\")\n",
    "elif operator ==\"-\":\n",
    "    print(f\"diff: {num1 - num2}\")\n",
    "elif operator ==\"*\":\n",
    "    print(f\"multiplication: {num1 * num2}\")\n",
    "else:\n",
    "    print(f\"division : {num1 / num2}\")"
   ]
  },
  {
   "cell_type": "code",
   "execution_count": 28,
   "id": "37e06b42",
   "metadata": {},
   "outputs": [
    {
     "name": "stdout",
     "output_type": "stream",
     "text": [
      "price is 100.\n"
     ]
    }
   ],
   "source": [
    "### Determine the ticket price based on age and whether the person is a student.\n",
    "# Ticket pricing based on age and student status\n",
    "age =int(input(\"enter your age: \"))\n",
    "\n",
    "if age <= 5:\n",
    "    print(\"ticket is free\")\n",
    "elif 6<= age <=21:\n",
    "    student =input(\"you have student id ? \").lower()\n",
    "    if student == \"yes\":\n",
    "        print(\"price is 100.\")\n",
    "    else:\n",
    "        print(\"price is 200.\")\n",
    "elif 22<= age <=60:\n",
    "    print(\"price is 250.\")\n",
    "else:\n",
    "    print(\"price is 100.\")"
   ]
  }
 ],
 "metadata": {
  "kernelspec": {
   "display_name": "enev",
   "language": "python",
   "name": "python3"
  },
  "language_info": {
   "codemirror_mode": {
    "name": "ipython",
    "version": 3
   },
   "file_extension": ".py",
   "mimetype": "text/x-python",
   "name": "python",
   "nbconvert_exporter": "python",
   "pygments_lexer": "ipython3",
   "version": "3.12.0"
  }
 },
 "nbformat": 4,
 "nbformat_minor": 5
}
