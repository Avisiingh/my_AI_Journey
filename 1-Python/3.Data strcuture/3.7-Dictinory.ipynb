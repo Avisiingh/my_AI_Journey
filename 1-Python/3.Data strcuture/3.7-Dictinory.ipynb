{
 "cells": [
  {
   "cell_type": "markdown",
   "id": "ce950025",
   "metadata": {},
   "source": [
    "#### Introduction to Dictionaries\n",
    "- Dictionaries are unordered collections of items. They store data in key-value pairs. Keys must be unique and immutable (e.g., strings, numbers, or tuples), while values can be of any type."
   ]
  },
  {
   "cell_type": "code",
   "execution_count": 26,
   "id": "7a6fbbb2",
   "metadata": {},
   "outputs": [
    {
     "name": "stdout",
     "output_type": "stream",
     "text": [
      "{}\n",
      "<class 'dict'>\n"
     ]
    }
   ],
   "source": [
    "## Creating dictinaries\n",
    "empty_dict = {}\n",
    "print(empty_dict)\n",
    "print(type(empty_dict))"
   ]
  },
  {
   "cell_type": "code",
   "execution_count": 27,
   "id": "0f43d26d",
   "metadata": {},
   "outputs": [
    {
     "name": "stdout",
     "output_type": "stream",
     "text": [
      "{}\n"
     ]
    }
   ],
   "source": [
    "empty_dict =dict()\n",
    "print(empty_dict)"
   ]
  },
  {
   "cell_type": "code",
   "execution_count": 28,
   "id": "c596744e",
   "metadata": {},
   "outputs": [
    {
     "name": "stdout",
     "output_type": "stream",
     "text": [
      "{'name': 'Avinash', 'age': 23, 'grade': 23}\n",
      "<class 'dict'>\n"
     ]
    }
   ],
   "source": [
    "student = {\"name\":\"Avinash\",\"age\":23,\"grade\": 23}\n",
    "print(student)\n",
    "print(type(student))"
   ]
  },
  {
   "cell_type": "code",
   "execution_count": 29,
   "id": "5195369f",
   "metadata": {},
   "outputs": [
    {
     "name": "stdout",
     "output_type": "stream",
     "text": [
      "{'name': 23, 'age': 23}\n"
     ]
    }
   ],
   "source": [
    "## Single key is always used\n",
    "student = {\"name\":\"Avinash\",\"age\":23,\"name\": 23}  ## value get replaced\n",
    "print(student)"
   ]
  },
  {
   "cell_type": "markdown",
   "id": "aa7a4837",
   "metadata": {},
   "source": [
    "##### Accessing Dict elements"
   ]
  },
  {
   "cell_type": "code",
   "execution_count": 42,
   "id": "9b922f9b",
   "metadata": {},
   "outputs": [
    {
     "name": "stdout",
     "output_type": "stream",
     "text": [
      "{'name': 'Avinash', 'age': 23, 'grade': 'A'}\n"
     ]
    }
   ],
   "source": [
    "\n",
    "student = {\"name\":\"Avinash\",\"age\":23,\"grade\":\"A\"}\n",
    "print(student)"
   ]
  },
  {
   "cell_type": "code",
   "execution_count": 31,
   "id": "fbb7caf7",
   "metadata": {},
   "outputs": [
    {
     "name": "stdout",
     "output_type": "stream",
     "text": [
      "A\n",
      "23\n"
     ]
    }
   ],
   "source": [
    "print(student[\"grade\"])\n",
    "print(student[\"age\"])"
   ]
  },
  {
   "cell_type": "markdown",
   "id": "5cd05a83",
   "metadata": {},
   "source": [
    "##### Accessing using get() method"
   ]
  },
  {
   "cell_type": "code",
   "execution_count": 32,
   "id": "6fc422fe",
   "metadata": {},
   "outputs": [
    {
     "name": "stdout",
     "output_type": "stream",
     "text": [
      "A\n",
      "None\n",
      "Not Available\n"
     ]
    }
   ],
   "source": [
    "print(student.get('grade'))\n",
    "print(student.get('last_name'))\n",
    "print(student.get('last_name',\"Not Available\"))"
   ]
  },
  {
   "cell_type": "markdown",
   "id": "e5911e50",
   "metadata": {},
   "source": [
    "##### Modifying Dicitonary Elements\n",
    "- Dictionary are mutable,so you can add, update or delete elements"
   ]
  },
  {
   "cell_type": "code",
   "execution_count": 43,
   "id": "7ccaf5e3",
   "metadata": {},
   "outputs": [
    {
     "name": "stdout",
     "output_type": "stream",
     "text": [
      "{'name': 'Avinash', 'age': 23, 'grade': 'A'}\n"
     ]
    }
   ],
   "source": [
    "print(student)"
   ]
  },
  {
   "cell_type": "code",
   "execution_count": 44,
   "id": "7ce5d4ac",
   "metadata": {},
   "outputs": [
    {
     "name": "stdout",
     "output_type": "stream",
     "text": [
      "{'name': 'Avinash', 'age': 33, 'grade': 'A'}\n",
      "{'name': 'Avinash', 'age': 33, 'grade': 'A', 'address': 'India'}\n"
     ]
    }
   ],
   "source": [
    "student[\"age\"] =33 ##update value for the key\n",
    "print(student)\n",
    "student[\"address\"] =\"India\"  ## added a new key and value\n",
    "print(student)"
   ]
  },
  {
   "cell_type": "code",
   "execution_count": 45,
   "id": "eaf22f7f",
   "metadata": {},
   "outputs": [
    {
     "name": "stdout",
     "output_type": "stream",
     "text": [
      "{'name': 'Avinash', 'age': 33, 'address': 'India'}\n"
     ]
    }
   ],
   "source": [
    "del student[\"grade\"]  # delete key and value pair\n",
    "print(student)"
   ]
  },
  {
   "cell_type": "markdown",
   "id": "d6abb3d6",
   "metadata": {},
   "source": [
    "##### Dictnaries method"
   ]
  },
  {
   "cell_type": "code",
   "execution_count": 52,
   "id": "fe3afa35",
   "metadata": {},
   "outputs": [
    {
     "name": "stdout",
     "output_type": "stream",
     "text": [
      "dict_keys(['name', 'age', 'address'])\n",
      "dict_values(['Avinash', 33, 'India'])\n",
      "dict_items([('name', 'Avinash'), ('age', 33), ('address', 'India')])\n"
     ]
    }
   ],
   "source": [
    "keys =student.keys()  ##get all the keys\n",
    "print(keys)\n",
    "values =student.values() ##get all the values\n",
    "print(values)\n",
    "\n",
    "items = student.items()   ##get all key value pairs\n",
    "print(items)"
   ]
  },
  {
   "cell_type": "markdown",
   "id": "c5513a7c",
   "metadata": {},
   "source": [
    "##### shallow copy"
   ]
  },
  {
   "cell_type": "code",
   "execution_count": null,
   "id": "90d20db7",
   "metadata": {},
   "outputs": [
    {
     "name": "stdout",
     "output_type": "stream",
     "text": [
      "{'name': 'Avinash', 'age': 33, 'address': 'India'}\n",
      "{'name': 'Avinash', 'age': 33, 'address': 'India'}\n"
     ]
    }
   ],
   "source": [
    "\n",
    "student_copy =student\n",
    "print(student)\n",
    "print(student_copy)"
   ]
  },
  {
   "cell_type": "code",
   "execution_count": 55,
   "id": "f9f3f1d1",
   "metadata": {},
   "outputs": [
    {
     "name": "stdout",
     "output_type": "stream",
     "text": [
      "{'name': 'Krish', 'age': 33, 'address': 'India'}\n",
      "{'name': 'Krish', 'age': 33, 'address': 'India'}\n"
     ]
    }
   ],
   "source": [
    "student[\"name\"] = 'Krish'\n",
    "print(student)\n",
    "print(student_copy)"
   ]
  },
  {
   "cell_type": "code",
   "execution_count": 58,
   "id": "21a15c3f",
   "metadata": {},
   "outputs": [
    {
     "name": "stdout",
     "output_type": "stream",
     "text": [
      "{'name': 'Krish', 'age': 33, 'address': 'India'}\n",
      "{'name': 'Krish', 'age': 33, 'address': 'India'}\n"
     ]
    }
   ],
   "source": [
    "student_copy1 =student.copy()  ## shallow copy\n",
    "print(student_copy1)\n",
    "print(student)"
   ]
  },
  {
   "cell_type": "code",
   "execution_count": 59,
   "id": "25be379e",
   "metadata": {},
   "outputs": [
    {
     "name": "stdout",
     "output_type": "stream",
     "text": [
      "{'name': 'avinash1', 'age': 33, 'address': 'India'}\n",
      "{'name': 'Krish', 'age': 33, 'address': 'India'}\n"
     ]
    }
   ],
   "source": [
    "student[\"name\"] =\"avinash1\"\n",
    "print(student)\n",
    "print(student_copy1)"
   ]
  },
  {
   "cell_type": "markdown",
   "id": "975a8bde",
   "metadata": {},
   "source": [
    "##### Iterating Over Dictionaries\n",
    "- You can use loops to iterate over dictionatries, keys,values,or items"
   ]
  },
  {
   "cell_type": "code",
   "execution_count": 64,
   "id": "41640e48",
   "metadata": {},
   "outputs": [
    {
     "name": "stdout",
     "output_type": "stream",
     "text": [
      "name\n",
      "age\n",
      "address\n"
     ]
    }
   ],
   "source": [
    "## Iterating over keys\n",
    "for keys in student.keys():\n",
    "    print(keys)"
   ]
  },
  {
   "cell_type": "code",
   "execution_count": 66,
   "id": "04ae2b27",
   "metadata": {},
   "outputs": [
    {
     "name": "stdout",
     "output_type": "stream",
     "text": [
      "avinash1\n",
      "33\n",
      "India\n"
     ]
    }
   ],
   "source": [
    "## Iterate over values\n",
    "for value in student.values():\n",
    "    print(value)"
   ]
  },
  {
   "cell_type": "code",
   "execution_count": 67,
   "id": "dcd55f6d",
   "metadata": {},
   "outputs": [
    {
     "name": "stdout",
     "output_type": "stream",
     "text": [
      "name:avinash1\n",
      "age:33\n",
      "address:India\n"
     ]
    }
   ],
   "source": [
    "## Iterate over key value pairs\n",
    "for key,value in student.items():\n",
    "    print(f\"{key}:{value}\")"
   ]
  },
  {
   "cell_type": "markdown",
   "id": "23a16cf7",
   "metadata": {},
   "source": [
    "##### Nested Disctionaries"
   ]
  },
  {
   "cell_type": "code",
   "execution_count": 70,
   "id": "0655a15a",
   "metadata": {},
   "outputs": [
    {
     "name": "stdout",
     "output_type": "stream",
     "text": [
      "{'student1': {'name': 'Krish', 'age': 32}, 'student2': {'name': 'Peter', 'age': 35}}\n"
     ]
    }
   ],
   "source": [
    "students={\n",
    "    \"student1\":{\"name\":\"Krish\",\"age\":32},\n",
    "    \"student2\":{\"name\":\"Peter\",\"age\":35}\n",
    "}\n",
    "print(students)"
   ]
  },
  {
   "cell_type": "markdown",
   "id": "49e04ecf",
   "metadata": {},
   "source": [
    "##### Access nested dictionaries elementss"
   ]
  },
  {
   "cell_type": "code",
   "execution_count": 71,
   "id": "7a3993c9",
   "metadata": {},
   "outputs": [
    {
     "name": "stdout",
     "output_type": "stream",
     "text": [
      "Peter\n",
      "35\n"
     ]
    }
   ],
   "source": [
    "print(students[\"student2\"][\"name\"])\n",
    "print(students[\"student2\"][\"age\"])"
   ]
  },
  {
   "cell_type": "markdown",
   "id": "c0104b06",
   "metadata": {},
   "source": [
    "##### Iterating over nested dictionaries"
   ]
  },
  {
   "cell_type": "code",
   "execution_count": 77,
   "id": "2132ddd2",
   "metadata": {},
   "outputs": [
    {
     "data": {
      "text/plain": [
       "dict_items([('student1', {'name': 'Krish', 'age': 32}), ('student2', {'name': 'Peter', 'age': 35})])"
      ]
     },
     "execution_count": 77,
     "metadata": {},
     "output_type": "execute_result"
    }
   ],
   "source": [
    "students.items()"
   ]
  },
  {
   "cell_type": "code",
   "execution_count": 78,
   "id": "356e2af3",
   "metadata": {},
   "outputs": [
    {
     "name": "stdout",
     "output_type": "stream",
     "text": [
      "student1: {'name': 'Krish', 'age': 32}\n",
      "name :Krish\n",
      "age :32\n",
      "student2: {'name': 'Peter', 'age': 35}\n",
      "name :Peter\n",
      "age :35\n"
     ]
    }
   ],
   "source": [
    "for students_id,students_info in students.items():\n",
    "    print(f\"{students_id}: {students_info}\")\n",
    "    for key,value in students_info.items():\n",
    "        print(f\"{key} :{value}\")"
   ]
  },
  {
   "cell_type": "markdown",
   "id": "46116bf7",
   "metadata": {},
   "source": [
    "##### Dictionary comphrehension"
   ]
  },
  {
   "cell_type": "code",
   "execution_count": 82,
   "id": "e2e8a1a8",
   "metadata": {},
   "outputs": [
    {
     "data": {
      "text/plain": [
       "{0: 0, 1: 1, 2: 4, 3: 9, 4: 16}"
      ]
     },
     "execution_count": 82,
     "metadata": {},
     "output_type": "execute_result"
    }
   ],
   "source": [
    "squares ={x : x ** 2 for x in range(5)}\n",
    "squares"
   ]
  },
  {
   "cell_type": "code",
   "execution_count": 83,
   "id": "35ea14fb",
   "metadata": {},
   "outputs": [
    {
     "data": {
      "text/plain": [
       "{0: 0, 2: 4, 4: 16, 6: 36, 8: 64}"
      ]
     },
     "execution_count": 83,
     "metadata": {},
     "output_type": "execute_result"
    }
   ],
   "source": [
    "## Conditional dictionaries comprehension\n",
    "evens ={x : x**2 for x in range(10) if x % 2==0}\n",
    "evens"
   ]
  },
  {
   "cell_type": "code",
   "execution_count": 88,
   "id": "2237f5c8",
   "metadata": {},
   "outputs": [
    {
     "name": "stdout",
     "output_type": "stream",
     "text": [
      "{1: 1, 2: 2, 3: 5, 4: 6}\n"
     ]
    }
   ],
   "source": [
    "## Practical Examples\n",
    "\n",
    "## USe a dictionary to count he frequency of elements in list\n",
    "\n",
    "numbers=[1,2,2,3,3,3,3,3,4,4,4,4,4,4]\n",
    "frequency={}\n",
    "\n",
    "for number in numbers:\n",
    "    if number in frequency:\n",
    "        frequency[number]+=1\n",
    "    else:\n",
    "        frequency[number]=1\n",
    "print(frequency)"
   ]
  },
  {
   "cell_type": "code",
   "execution_count": 89,
   "id": "930d51db",
   "metadata": {},
   "outputs": [
    {
     "name": "stdout",
     "output_type": "stream",
     "text": [
      "{'a': 1, 'b': 3, 'c': 4}\n"
     ]
    }
   ],
   "source": [
    "## Merge 2 dictinories into one\n",
    "dict1= {\"a\":1,\"b\":2}\n",
    "dict2 ={\"b\":3 ,\"c\":4}\n",
    "merge_dict = {**dict1,**dict2}\n",
    "print(merge_dict)"
   ]
  },
  {
   "cell_type": "code",
   "execution_count": null,
   "id": "7e7aa1ab",
   "metadata": {},
   "outputs": [],
   "source": []
  }
 ],
 "metadata": {
  "kernelspec": {
   "display_name": "enev",
   "language": "python",
   "name": "python3"
  },
  "language_info": {
   "codemirror_mode": {
    "name": "ipython",
    "version": 3
   },
   "file_extension": ".py",
   "mimetype": "text/x-python",
   "name": "python",
   "nbconvert_exporter": "python",
   "pygments_lexer": "ipython3",
   "version": "3.12.0"
  }
 },
 "nbformat": 4,
 "nbformat_minor": 5
}
