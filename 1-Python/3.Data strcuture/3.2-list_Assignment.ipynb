{
 "cells": [
  {
   "cell_type": "markdown",
   "metadata": {},
   "source": [
    "# Module 3: Data Structures Assignments\n",
    "## Lesson 3.1: Lists"
   ]
  },
  {
   "cell_type": "markdown",
   "id": "339380a6",
   "metadata": {},
   "source": [
    "### Assignment 1: Creating and Accessing Lists\n",
    "\n",
    "Create a list of the first 20 positive integers. Print the list.\n"
   ]
  },
  {
   "cell_type": "code",
   "execution_count": 6,
   "metadata": {},
   "outputs": [
    {
     "name": "stdout",
     "output_type": "stream",
     "text": [
      "[1, 2, 3, 4, 5, 6, 7, 8, 9, 10, 11, 12, 13, 14, 15, 16, 17, 18, 19, 20]\n"
     ]
    }
   ],
   "source": [
    "positive_num=[i for i in range(1,21)]\n",
    "print(positive_num)"
   ]
  },
  {
   "cell_type": "markdown",
   "id": "3ddfd734",
   "metadata": {},
   "source": [
    "### Assignment 2: Accessing List Elements\n",
    "\n",
    "Print the first, middle, and last elements of the list created in Assignment 1."
   ]
  },
  {
   "cell_type": "code",
   "execution_count": 17,
   "id": "f6c3f368",
   "metadata": {},
   "outputs": [
    {
     "name": "stdout",
     "output_type": "stream",
     "text": [
      "First: 1\n",
      "Middle: (10, 11)\n",
      "Last: 20\n"
     ]
    }
   ],
   "source": [
    "n = len(positive_num)\n",
    "\n",
    "first = positive_num[0]\n",
    "last = positive_num[-1]\n",
    "\n",
    "if n % 2 == 0:  \n",
    "    mid1 = positive_num[n//2 - 1]\n",
    "    mid2 = positive_num[n//2]\n",
    "    middle = (mid1, mid2)  \n",
    "else:  \n",
    "    middle = positive_num[n//2]\n",
    "\n",
    "print(\"First:\", first)\n",
    "print(\"Middle:\", middle)\n",
    "print(\"Last:\", last)\n"
   ]
  },
  {
   "cell_type": "markdown",
   "id": "3394514c",
   "metadata": {},
   "source": [
    "\n",
    "### Assignment 3: List Slicing\n",
    "\n",
    "Print the first five elements, the last five elements, and the elements from index 5 to 15 of the list created in Assignment 1."
   ]
  },
  {
   "cell_type": "code",
   "execution_count": 30,
   "id": "b6a3555a",
   "metadata": {},
   "outputs": [
    {
     "name": "stdout",
     "output_type": "stream",
     "text": [
      "[1, 2, 3, 4, 5]\n",
      "[6, 7, 8, 9, 10, 11, 12, 13, 14, 15]\n"
     ]
    }
   ],
   "source": [
    "print(positive_num[:5])\n",
    "print(positive_num[5:15])"
   ]
  },
  {
   "cell_type": "markdown",
   "id": "c0aba492",
   "metadata": {},
   "source": [
    "\n",
    "### Assignment 4: List Comprehensions\n",
    "\n",
    "Create a new list containing the squares of the first 10 positive integers using a list comprehension. Print the new list."
   ]
  },
  {
   "cell_type": "code",
   "execution_count": 32,
   "id": "92ce9a44",
   "metadata": {},
   "outputs": [
    {
     "data": {
      "text/plain": [
       "[1, 4, 9, 16, 25, 36, 49, 64, 81, 100]"
      ]
     },
     "execution_count": 32,
     "metadata": {},
     "output_type": "execute_result"
    }
   ],
   "source": [
    "square =[n ** 2 for n in range(1,11)]\n",
    "square"
   ]
  },
  {
   "cell_type": "markdown",
   "id": "58522394",
   "metadata": {},
   "source": [
    "\n",
    "### Assignment 5: Filtering Lists\n",
    "\n",
    "Create a new list containing only the even numbers from the list created in Assignment 1 using a list comprehension. Print the new list."
   ]
  },
  {
   "cell_type": "code",
   "execution_count": 38,
   "id": "ae7b2885",
   "metadata": {},
   "outputs": [
    {
     "data": {
      "text/plain": [
       "[2, 4, 6, 8, 10, 12, 14, 16, 18, 20]"
      ]
     },
     "execution_count": 38,
     "metadata": {},
     "output_type": "execute_result"
    }
   ],
   "source": [
    "even_num = [i for i in positive_num if i% 2==0]\n",
    "even_num"
   ]
  },
  {
   "cell_type": "markdown",
   "id": "3c83bd4c",
   "metadata": {},
   "source": [
    "### Assignment 6: List Methods\n",
    "\n",
    "Create a list of random numbers and sort it in ascending and descending order. Remove the duplicates from the list and print the modified list."
   ]
  },
  {
   "cell_type": "code",
   "execution_count": 49,
   "id": "cdc25fee",
   "metadata": {},
   "outputs": [
    {
     "name": "stdout",
     "output_type": "stream",
     "text": [
      "lst = [1, 11, 1, 14, 20, 17, 15, 13, 14, 14, 14, 12, 11, 18, 3]\n",
      "list in asc = [1, 1, 3, 11, 11, 12, 13, 14, 14, 14, 14, 15, 17, 18, 20]\n",
      "list in desc = [20, 18, 17, 15, 14, 14, 14, 14, 13, 12, 11, 11, 3, 1, 1]\n",
      "List with duplicates removed: [1, 3, 11, 12, 13, 14, 15, 17, 18, 20]\n"
     ]
    }
   ],
   "source": [
    "import random\n",
    "random_num=[random.randint(1,20) for _ in range(15)]\n",
    "print(F\"lst = {random_num}\")\n",
    "asc_lst =sorted(random_num)\n",
    "print(f\"list in asc = {asc_lst}\")\n",
    "rev_asc_lst =sorted(random_num, reverse=True)\n",
    "print(f\"list in desc = {rev_asc_lst}\")\n",
    "unique_numbers = list(set(random_num))\n",
    "print(f\"List with duplicates removed: {unique_numbers}\")"
   ]
  },
  {
   "cell_type": "markdown",
   "id": "cb1faa8e",
   "metadata": {},
   "source": [
    "### Assignment 7: Nested Lists\n",
    "\n",
    "Create a nested list representing a 3x3 matrix and print the matrix. Access and print the element at the second row and third column."
   ]
  },
  {
   "cell_type": "markdown",
   "id": "cd679792",
   "metadata": {},
   "source": [
    "\n",
    "### Assignment 8: List of Dictionaries\n",
    "\n",
    "Create a list of dictionaries where each dictionary represents a student with keys 'name' and 'score'. Sort the list of dictionaries by the 'score' in descending order and print the sorted list."
   ]
  },
  {
   "cell_type": "markdown",
   "id": "26013f91",
   "metadata": {},
   "source": [
    "### Assignment 9: Matrix Transposition\n",
    "\n",
    "Write a function that takes a 3x3 matrix (nested list) as input and returns its transpose. Print the original and transposed matrices."
   ]
  },
  {
   "cell_type": "markdown",
   "id": "1b548ea5",
   "metadata": {},
   "source": [
    "### Assignment 10: Flattening a Nested List\n",
    "\n",
    "Write a function that takes a nested list and flattens it into a single list. Print the original and flattened lists."
   ]
  },
  {
   "cell_type": "markdown",
   "id": "258a4936",
   "metadata": {},
   "source": [
    "\n",
    "\n",
    "### Assignment 11: List Manipulation\n",
    "\n",
    "Create a list of the first 10 positive integers. Remove the elements at indices 2, 4, and 6, and insert the element '99' at index 5. Print the modified list."
   ]
  },
  {
   "cell_type": "markdown",
   "id": "85e55ab1",
   "metadata": {},
   "source": [
    "### Assignment 12: List Zipping\n",
    "\n",
    "Create two lists of the same length. Use the `zip` function to combine these lists into a list of tuples and print the result."
   ]
  },
  {
   "cell_type": "markdown",
   "id": "d5415504",
   "metadata": {},
   "source": [
    "\n",
    "### Assignment 13: List Reversal\n",
    "\n",
    "Write a function that takes a list and returns a new list with the elements in reverse order. Print the original and reversed lists."
   ]
  },
  {
   "cell_type": "markdown",
   "id": "92fea0bf",
   "metadata": {},
   "source": [
    "\n",
    "### Assignment 14: List Rotation\n",
    "\n",
    "Write a function that rotates a list by n positions. Print the original and rotated lists.\n"
   ]
  },
  {
   "cell_type": "markdown",
   "id": "ec803efa",
   "metadata": {},
   "source": [
    "### Assignment 15: List Intersection\n",
    "\n",
    "Write a function that takes two lists and returns a new list containing only the elements that are present in both lists. Print the intersected list."
   ]
  },
  {
   "cell_type": "markdown",
   "id": "03096fe8",
   "metadata": {},
   "source": []
  }
 ],
 "metadata": {
  "kernelspec": {
   "display_name": "enev",
   "language": "python",
   "name": "python3"
  },
  "language_info": {
   "codemirror_mode": {
    "name": "ipython",
    "version": 3
   },
   "file_extension": ".py",
   "mimetype": "text/x-python",
   "name": "python",
   "nbconvert_exporter": "python",
   "pygments_lexer": "ipython3",
   "version": "3.12.0"
  }
 },
 "nbformat": 4,
 "nbformat_minor": 5
}
