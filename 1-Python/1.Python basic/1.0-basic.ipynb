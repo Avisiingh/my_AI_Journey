{
 "cells": [
  {
   "cell_type": "markdown",
   "id": "1b01940c",
   "metadata": {},
   "source": [
    "#### Syntax and Semantics in Python\n",
    "\n",
    "- Syntax refers to the set of rules that defines the combinations of symbols that are considered to be correctly structured programs in a language. In simpler terms, syntax is about the correct arrangement of words and symbols in a code.\n",
    "\n",
    "- Semantics refers to the meaning or the interpretation of the symbols, characters, and commands in a language. It is about what the code is supposed to do when it runs."
   ]
  },
  {
   "cell_type": "code",
   "execution_count": 3,
   "id": "ecd648ae",
   "metadata": {},
   "outputs": [
    {
     "name": "stdout",
     "output_type": "stream",
     "text": [
      "Avinash\n",
      "singh\n"
     ]
    }
   ],
   "source": [
    "## basic syntax Rules In python\n",
    "## Case sensitivity - Python is case sensitivity\n",
    "name =\"Avinash\"\n",
    "Name =\"singh\" ## name != Name\n",
    "print(name)\n",
    "print(Name)"
   ]
  },
  {
   "cell_type": "markdown",
   "id": "e7c16a7a",
   "metadata": {},
   "source": [
    "#### Indentation\n",
    "- Indentation in Python is used to define the structure and hierarchy of the code. Unlike many other programming languages that use braces {} to delimit blocks of code, Python uses indentation to determine the grouping of statements. This means that all the statements within a block must be indented at the same level."
   ]
  },
  {
   "cell_type": "code",
   "execution_count": 6,
   "id": "ba2bcbe6",
   "metadata": {},
   "outputs": [
    {
     "name": "stdout",
     "output_type": "stream",
     "text": [
      "32\n"
     ]
    }
   ],
   "source": [
    "## Indentation\n",
    "## Python uses indentation to define blocks of code. Consistent use of spaces (commonly 4) or a tab is required.\n",
    "age = 32\n",
    "if age > 32:\n",
    "    print(age) # here is not grater than 32 so it will execute but not print anything\n",
    "print(age)"
   ]
  },
  {
   "cell_type": "code",
   "execution_count": 7,
   "id": "34a19c3b",
   "metadata": {},
   "outputs": [
    {
     "name": "stdout",
     "output_type": "stream",
     "text": [
      "43\n"
     ]
    }
   ],
   "source": [
    "## Line cContinuation\n",
    "total = 1+ 2 + 3+ 4 +5 + 6 + 7 + \\\n",
    "4 + 5 + 6\n",
    "print(total)"
   ]
  },
  {
   "cell_type": "code",
   "execution_count": 9,
   "id": "e03052f9",
   "metadata": {},
   "outputs": [
    {
     "name": "stdout",
     "output_type": "stream",
     "text": [
      "15\n"
     ]
    }
   ],
   "source": [
    "## multiple  Statments on a single line\n",
    "x = 5; y = 10; z =x+ y\n",
    "print(z)"
   ]
  },
  {
   "cell_type": "code",
   "execution_count": 10,
   "id": "f239d818",
   "metadata": {},
   "outputs": [],
   "source": [
    "## Understand Semantics in Python\n",
    "# VAriable assignment\n",
    "age =32 ## age is in integer\n",
    "name =\"krish\" ## name is a string"
   ]
  },
  {
   "cell_type": "code",
   "execution_count": 13,
   "id": "34e82ec5",
   "metadata": {},
   "outputs": [
    {
     "data": {
      "text/plain": [
       "int"
      ]
     },
     "execution_count": 13,
     "metadata": {},
     "output_type": "execute_result"
    }
   ],
   "source": [
    "\n",
    "type(age)"
   ]
  },
  {
   "cell_type": "code",
   "execution_count": 12,
   "id": "9d310efc",
   "metadata": {},
   "outputs": [
    {
     "data": {
      "text/plain": [
       "str"
      ]
     },
     "execution_count": 12,
     "metadata": {},
     "output_type": "execute_result"
    }
   ],
   "source": [
    "type(name)"
   ]
  },
  {
   "cell_type": "code",
   "execution_count": 15,
   "id": "ae7f1b5c",
   "metadata": {},
   "outputs": [
    {
     "name": "stdout",
     "output_type": "stream",
     "text": [
      "<class 'int'>\n",
      "<class 'str'>\n"
     ]
    }
   ],
   "source": [
    "## Type Infrance\n",
    "varible = 10\n",
    "print(type(varible))\n",
    "varible = \"avinash\"\n",
    "print(type(varible))"
   ]
  },
  {
   "cell_type": "code",
   "execution_count": 16,
   "id": "439cfa5c",
   "metadata": {},
   "outputs": [
    {
     "ename": "IndentationError",
     "evalue": "expected an indented block after 'if' statement on line 2 (3679457567.py, line 3)",
     "output_type": "error",
     "traceback": [
      "  \u001b[36mCell\u001b[39m\u001b[36m \u001b[39m\u001b[32mIn[16]\u001b[39m\u001b[32m, line 3\u001b[39m\n\u001b[31m    \u001b[39m\u001b[31mprint(age)\u001b[39m\n    ^\n\u001b[31mIndentationError\u001b[39m\u001b[31m:\u001b[39m expected an indented block after 'if' statement on line 2\n"
     ]
    }
   ],
   "source": [
    "age =32\n",
    "if age > 32:\n",
    "print(age)"
   ]
  },
  {
   "cell_type": "code",
   "execution_count": 18,
   "id": "6c41ca1d",
   "metadata": {},
   "outputs": [
    {
     "ename": "NameError",
     "evalue": "name 'b' is not defined",
     "output_type": "error",
     "traceback": [
      "\u001b[31m---------------------------------------------------------------------------\u001b[39m",
      "\u001b[31mNameError\u001b[39m                                 Traceback (most recent call last)",
      "\u001b[36mCell\u001b[39m\u001b[36m \u001b[39m\u001b[32mIn[18]\u001b[39m\u001b[32m, line 2\u001b[39m\n\u001b[32m      1\u001b[39m \u001b[38;5;66;03m## Name Error\u001b[39;00m\n\u001b[32m----> \u001b[39m\u001b[32m2\u001b[39m a = \u001b[43mb\u001b[49m\n",
      "\u001b[31mNameError\u001b[39m: name 'b' is not defined"
     ]
    }
   ],
   "source": [
    "## Name Error\n",
    "a = b"
   ]
  },
  {
   "cell_type": "code",
   "execution_count": 19,
   "id": "61f9b494",
   "metadata": {},
   "outputs": [
    {
     "name": "stdout",
     "output_type": "stream",
     "text": [
      "Correct indentation\n",
      "this is will print\n",
      "outside the if block\n"
     ]
    }
   ],
   "source": [
    "## Code example of indentation\n",
    "if True:\n",
    "    print(\"Correct indentation\")\n",
    "    if False:\n",
    "        print(\"this out print\")\n",
    "    print(\"this is will print\")\n",
    "print(\"outside the if block\")"
   ]
  },
  {
   "cell_type": "code",
   "execution_count": null,
   "id": "9a797790",
   "metadata": {},
   "outputs": [],
   "source": []
  }
 ],
 "metadata": {
  "kernelspec": {
   "display_name": "enev",
   "language": "python",
   "name": "python3"
  },
  "language_info": {
   "codemirror_mode": {
    "name": "ipython",
    "version": 3
   },
   "file_extension": ".py",
   "mimetype": "text/x-python",
   "name": "python",
   "nbconvert_exporter": "python",
   "pygments_lexer": "ipython3",
   "version": "3.12.0"
  }
 },
 "nbformat": 4,
 "nbformat_minor": 5
}
