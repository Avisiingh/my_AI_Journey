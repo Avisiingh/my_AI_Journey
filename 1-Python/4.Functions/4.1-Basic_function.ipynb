{
 "cells": [
  {
   "cell_type": "markdown",
   "id": "93e5168f",
   "metadata": {},
   "source": [
    "#### Introduction to Functions\n",
    "Definition:\n",
    "\n",
    "- A function is a block of code that performs a specific task. Functions help in organizing code, reusing code, and improving readability."
   ]
  },
  {
   "cell_type": "code",
   "execution_count": 1,
   "id": "66a3a88e",
   "metadata": {},
   "outputs": [],
   "source": [
    "## syntax\n",
    "def function_name(parameters):\n",
    "    \"\"\"Docstring\"\"\"\n",
    "    # Function body\n",
    "    return expression"
   ]
  },
  {
   "cell_type": "code",
   "execution_count": 7,
   "id": "36bc7de8",
   "metadata": {},
   "outputs": [
    {
     "name": "stdout",
     "output_type": "stream",
     "text": [
      "The number is even\n"
     ]
    }
   ],
   "source": [
    "## Why functions ?   \n",
    "num = 24\n",
    "if num % 2 ==0:\n",
    "    print(\"The number is even\")\n",
    "else:\n",
    "    print(\"The number is odd\")"
   ]
  },
  {
   "cell_type": "code",
   "execution_count": 3,
   "id": "aa31e40f",
   "metadata": {},
   "outputs": [],
   "source": [
    "def even_or_odd(num):\n",
    "    \"\"\"this function finds even or odd\"\"\"\n",
    "    if num % 2 ==0:\n",
    "        print(\"The number is even\")\n",
    "    else:\n",
    "        print(\"The number is odd\")"
   ]
  },
  {
   "cell_type": "code",
   "execution_count": 5,
   "id": "aa3e5b48",
   "metadata": {},
   "outputs": [
    {
     "name": "stdout",
     "output_type": "stream",
     "text": [
      "The number is even\n"
     ]
    }
   ],
   "source": [
    "## call this function\n",
    "even_or_odd(24)"
   ]
  },
  {
   "cell_type": "code",
   "execution_count": 6,
   "id": "fe1909ea",
   "metadata": {},
   "outputs": [
    {
     "name": "stdout",
     "output_type": "stream",
     "text": [
      "The number is odd\n"
     ]
    }
   ],
   "source": [
    "even_or_odd(21)"
   ]
  },
  {
   "cell_type": "code",
   "execution_count": 8,
   "id": "a8e079c2",
   "metadata": {},
   "outputs": [
    {
     "name": "stdout",
     "output_type": "stream",
     "text": [
      "6\n"
     ]
    }
   ],
   "source": [
    "## functions with multiple parameters\n",
    "def add(a,b):\n",
    "    return a + b\n",
    "result = add(2,4)\n",
    "print(result)"
   ]
  },
  {
   "cell_type": "code",
   "execution_count": 10,
   "id": "3952f549",
   "metadata": {},
   "outputs": [
    {
     "name": "stdout",
     "output_type": "stream",
     "text": [
      "hello avinash Welcome to paradise\n"
     ]
    }
   ],
   "source": [
    "### default parameters\n",
    "def greet(name):\n",
    "    print(f\"hello {name} Welcome to paradise\")\n",
    "greet(\"avinash\")"
   ]
  },
  {
   "cell_type": "code",
   "execution_count": 12,
   "id": "39d3780f",
   "metadata": {},
   "outputs": [
    {
     "name": "stdout",
     "output_type": "stream",
     "text": [
      "hello Guest, Welcome to paradise\n"
     ]
    }
   ],
   "source": [
    "def greet(name=\"Guest\"):\n",
    "    print(f\"hello {name}, Welcome to paradise\")\n",
    "greet()"
   ]
  },
  {
   "cell_type": "code",
   "execution_count": 13,
   "id": "7a1471f8",
   "metadata": {},
   "outputs": [
    {
     "name": "stdout",
     "output_type": "stream",
     "text": [
      "hello Avi, Welcome to paradise\n"
     ]
    }
   ],
   "source": [
    "greet(\"Avi\")"
   ]
  },
  {
   "cell_type": "code",
   "execution_count": 16,
   "id": "5b30c9a8",
   "metadata": {},
   "outputs": [],
   "source": [
    "### Varaible length Arguments\n",
    "## Positional arguments\n",
    "def print_numbers(*args):\n",
    "    for numbers in args:\n",
    "        print(numbers)"
   ]
  },
  {
   "cell_type": "code",
   "execution_count": 15,
   "id": "9906416c",
   "metadata": {},
   "outputs": [
    {
     "name": "stdout",
     "output_type": "stream",
     "text": [
      "1\n",
      "2\n",
      "3\n",
      "4\n",
      "5\n",
      "6\n",
      "avi\n"
     ]
    }
   ],
   "source": [
    "print_numbers(1,2,3,4,5,6,\"avi\")"
   ]
  },
  {
   "cell_type": "code",
   "execution_count": 17,
   "id": "3ba31741",
   "metadata": {},
   "outputs": [],
   "source": [
    "### keywords arguments\n",
    "def print_details(**kwargs):\n",
    "    for key,value in kwargs.items():\n",
    "        print(f\"{key}:{value}\")"
   ]
  },
  {
   "cell_type": "code",
   "execution_count": 18,
   "id": "091c4b34",
   "metadata": {},
   "outputs": [
    {
     "name": "stdout",
     "output_type": "stream",
     "text": [
      "name:avi\n",
      "age:32\n",
      "country:India\n"
     ]
    }
   ],
   "source": [
    "print_details(name=\"avi\",age=32,country =\"India\")"
   ]
  },
  {
   "cell_type": "code",
   "execution_count": 19,
   "id": "30e17a72",
   "metadata": {},
   "outputs": [],
   "source": [
    "def print_details(*args,**kwargs):\n",
    "    for val in args:\n",
    "        print(f\" Positional arument :{val}\")\n",
    "    \n",
    "    for key,value in kwargs.items():\n",
    "        print(f\"{key}:{value}\")"
   ]
  },
  {
   "cell_type": "code",
   "execution_count": 20,
   "id": "cfb333ce",
   "metadata": {},
   "outputs": [
    {
     "name": "stdout",
     "output_type": "stream",
     "text": [
      " Positional arument :1\n",
      " Positional arument :2\n",
      " Positional arument :3\n",
      " Positional arument :4\n",
      " Positional arument :5\n",
      "name:Avi\n",
      "age:21\n",
      "gender:male\n"
     ]
    }
   ],
   "source": [
    "print_details(1,2,3,4,5,name =\"Avi\",age=21,gender=\"male\")"
   ]
  },
  {
   "cell_type": "code",
   "execution_count": 21,
   "id": "7fc25df8",
   "metadata": {},
   "outputs": [
    {
     "data": {
      "text/plain": [
       "6"
      ]
     },
     "execution_count": 21,
     "metadata": {},
     "output_type": "execute_result"
    }
   ],
   "source": [
    "### Return statements\n",
    "def  multiply(a,b):\n",
    "    return a*b\n",
    "multiply(2,3)"
   ]
  },
  {
   "cell_type": "code",
   "execution_count": 23,
   "id": "83b9a20b",
   "metadata": {},
   "outputs": [
    {
     "data": {
      "text/plain": [
       "(6, 2)"
      ]
     },
     "execution_count": 23,
     "metadata": {},
     "output_type": "execute_result"
    }
   ],
   "source": [
    "### Return multiple parameters\n",
    "def  multiply(a,b):\n",
    "    return a*b,a\n",
    "multiply(2,3)"
   ]
  }
 ],
 "metadata": {
  "kernelspec": {
   "display_name": "enev",
   "language": "python",
   "name": "python3"
  },
  "language_info": {
   "codemirror_mode": {
    "name": "ipython",
    "version": 3
   },
   "file_extension": ".py",
   "mimetype": "text/x-python",
   "name": "python",
   "nbconvert_exporter": "python",
   "pygments_lexer": "ipython3",
   "version": "3.12.0"
  }
 },
 "nbformat": 4,
 "nbformat_minor": 5
}
