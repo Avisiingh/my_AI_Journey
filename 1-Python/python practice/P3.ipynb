{
 "cells": [
  {
   "cell_type": "code",
   "execution_count": 1,
   "id": "5470de1d",
   "metadata": {},
   "outputs": [
    {
     "name": "stdout",
     "output_type": "stream",
     "text": [
      "1\n",
      "2\n",
      "3\n",
      "4\n",
      "5\n"
     ]
    }
   ],
   "source": [
    "## Accept a positive integer n as input and print the first \n",
    "# n positive integers, one number on each line.\n",
    "n =int(input())\n",
    "for i in range(1,n+1):\n",
    "    print(i)"
   ]
  },
  {
   "cell_type": "code",
   "execution_count": 5,
   "id": "4ce3aa14",
   "metadata": {},
   "outputs": [
    {
     "name": "stdout",
     "output_type": "stream",
     "text": [
      "1\n",
      "2\n",
      "3\n",
      "4\n",
      "5\n"
     ]
    }
   ],
   "source": [
    "## using while loop\n",
    "n = int(input())\n",
    "a = 1\n",
    "while  a <= n:\n",
    "    print(a)\n",
    "    a = a + 1"
   ]
  },
  {
   "cell_type": "code",
   "execution_count": 6,
   "id": "15b04b5b",
   "metadata": {},
   "outputs": [
    {
     "name": "stdout",
     "output_type": "stream",
     "text": [
      "1\n",
      "5\n"
     ]
    }
   ],
   "source": [
    "## Accept a positive integer n as input and print all the factors of n,\n",
    "#  one number on each line.\n",
    "n = int(input())\n",
    "for i in range(1,n+1):\n",
    "    if n % i ==0:\n",
    "        print(i)\n"
   ]
  },
  {
   "cell_type": "code",
   "execution_count": 14,
   "id": "4780e15f",
   "metadata": {},
   "outputs": [
    {
     "name": "stdout",
     "output_type": "stream",
     "text": [
      "250500\n"
     ]
    }
   ],
   "source": [
    "\"\"\"\n",
    "Accept two positive integers a and b as input. Print the sum of all integers in the range \n",
    "[1000,2000], endpoints inclusive, that are divisible by both \n",
    "a and b. If you find no number satisfying this condition in the given range, then print 0.\n",
    "\"\"\"\n",
    "\n",
    "a = int(input())\n",
    "b = int(input())\n",
    "sum =0\n",
    "for i in range(1000,2001):\n",
    "    if i % a == 0 and i % b ==0:\n",
    "        sum += i\n",
    "print(sum)"
   ]
  },
  {
   "cell_type": "code",
   "execution_count": 20,
   "id": "de667705",
   "metadata": {},
   "outputs": [
    {
     "name": "stdout",
     "output_type": "stream",
     "text": [
      "PRIME\n"
     ]
    }
   ],
   "source": [
    "\"\"\" \n",
    "Accept a positive integer n as input, where n>1. Print PRIME if \n",
    "n is a prime number and NOTPRIME otherwise.\n",
    "\"\"\"\n",
    "n = int(input())\n",
    "lst =[]\n",
    "if n > 1:\n",
    "   for i in range(2,n+1):\n",
    "      if n % i ==0:\n",
    "        lst.append(i)\n",
    "if lst == [n]:\n",
    "   print(\"PRIME\")\n",
    "else:\n",
    "   print(\"NOTPRIME\")\n"
   ]
  },
  {
   "cell_type": "code",
   "execution_count": 21,
   "id": "de644334",
   "metadata": {},
   "outputs": [
    {
     "name": "stdout",
     "output_type": "stream",
     "text": [
      "PRIME\n"
     ]
    }
   ],
   "source": [
    "n = int(input())\n",
    "lst = []\n",
    "if n > 1:\n",
    "    for i in range(2, n):\n",
    "        if n % i == 0:\n",
    "            lst.append(i)\n",
    "if len(lst) == 0:\n",
    "    print(\"PRIME\")\n",
    "else:\n",
    "    print(\"NOTPRIME\")\n"
   ]
  },
  {
   "cell_type": "code",
   "execution_count": 26,
   "id": "b4680654",
   "metadata": {},
   "outputs": [
    {
     "name": "stdout",
     "output_type": "stream",
     "text": [
      "PRIME\n"
     ]
    }
   ],
   "source": [
    "n = int(input())\n",
    "if n > 1:\n",
    "    prime = True\n",
    "    for i in range(2,n):\n",
    "        if n % i == 0:\n",
    "            prime =False\n",
    "            break\n",
    "    if prime:\n",
    "        print(\"PRIME\")\n",
    "    else:\n",
    "        print(\"NOTPRIME\")\n",
    "        "
   ]
  },
  {
   "cell_type": "code",
   "execution_count": null,
   "id": "457fd28a",
   "metadata": {},
   "outputs": [],
   "source": []
  }
 ],
 "metadata": {
  "kernelspec": {
   "display_name": "enev",
   "language": "python",
   "name": "python3"
  },
  "language_info": {
   "codemirror_mode": {
    "name": "ipython",
    "version": 3
   },
   "file_extension": ".py",
   "mimetype": "text/x-python",
   "name": "python",
   "nbconvert_exporter": "python",
   "pygments_lexer": "ipython3",
   "version": "3.12.0"
  }
 },
 "nbformat": 4,
 "nbformat_minor": 5
}
