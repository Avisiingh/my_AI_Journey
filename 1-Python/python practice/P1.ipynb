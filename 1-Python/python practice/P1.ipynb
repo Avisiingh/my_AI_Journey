{
 "cells": [
  {
   "cell_type": "code",
   "execution_count": 1,
   "id": "c4a4be80",
   "metadata": {},
   "outputs": [
    {
     "name": "stdout",
     "output_type": "stream",
     "text": [
      "1\n",
      "2\n",
      "3\n",
      "4\n",
      "5\n"
     ]
    }
   ],
   "source": [
    "## Print the first 5 positive integers in ascending order with one number in each line\n",
    "print(1)\n",
    "print(2)\n",
    "print(3)\n",
    "print(4)\n",
    "print(5)"
   ]
  },
  {
   "cell_type": "code",
   "execution_count": 4,
   "id": "5f44c515",
   "metadata": {},
   "outputs": [
    {
     "name": "stdout",
     "output_type": "stream",
     "text": [
      "*\n",
      "**\n",
      "***\n",
      "****\n",
      "*****\n"
     ]
    }
   ],
   "source": [
    "# Print the following pattern.\n",
    "# *\n",
    "# **\n",
    "# ***\n",
    "# ****\n",
    "# *****\n",
    "for i in range(5):\n",
    "    for j in range(0,i+1):\n",
    "        print(\"*\",end=\"\")\n",
    "    print()"
   ]
  },
  {
   "cell_type": "code",
   "execution_count": 6,
   "id": "124efb62",
   "metadata": {},
   "outputs": [
    {
     "name": "stdout",
     "output_type": "stream",
     "text": [
      "square : 144\n"
     ]
    }
   ],
   "source": [
    "# Accept an integer as input and print its square as output.\n",
    "A = int(input())\n",
    "print(f\"square : {A**2}\")"
   ]
  },
  {
   "cell_type": "code",
   "execution_count": 7,
   "id": "bce8c5d4",
   "metadata": {},
   "outputs": [
    {
     "name": "stdout",
     "output_type": "stream",
     "text": [
      "sum : 24\n"
     ]
    }
   ],
   "source": [
    "# Accept two integers as input and print their sum as output.\n",
    "num1 =int(input())\n",
    "num2 =int(input())\n",
    "sum =num1 + num2\n",
    "print(f\"sum : {sum}\")"
   ]
  },
  {
   "cell_type": "code",
   "execution_count": 10,
   "id": "cd9d6967",
   "metadata": {},
   "outputs": [
    {
     "name": "stdout",
     "output_type": "stream",
     "text": [
      "i love python\n"
     ]
    }
   ],
   "source": [
    "# Accept two words as input and print the two words after adding a space between them.\n",
    "str1=input()\n",
    "str2=input()\n",
    "print(str1+\" \"+str2)"
   ]
  },
  {
   "cell_type": "code",
   "execution_count": 11,
   "id": "5c2d5d8c",
   "metadata": {},
   "outputs": [
    {
     "name": "stdout",
     "output_type": "stream",
     "text": [
      "KA\n"
     ]
    }
   ],
   "source": [
    "# Accept the registration number of a vehicle as input and print its state-code as output.\n",
    "reg_num =input()\n",
    "state_code =reg_num[0:2]\n",
    "print(state_code)"
   ]
  },
  {
   "cell_type": "code",
   "execution_count": 16,
   "id": "840de654",
   "metadata": {},
   "outputs": [
    {
     "name": "stdout",
     "output_type": "stream",
     "text": [
      "15\n"
     ]
    }
   ],
   "source": [
    "# Accept a five digit number as input and print the sum of its digits as output.\n",
    "n =int(input())\n",
    "sum =0\n",
    "while n > 0 :\n",
    "    last_digit = n % 10\n",
    "    sum = sum + last_digit\n",
    "    n =n //10\n",
    "print(sum)\n"
   ]
  },
  {
   "cell_type": "code",
   "execution_count": 17,
   "id": "af317aa4",
   "metadata": {},
   "outputs": [
    {
     "name": "stdout",
     "output_type": "stream",
     "text": [
      "15\n"
     ]
    }
   ],
   "source": [
    "num =input()\n",
    "sum=(int(num[0])+int(num[1])+int(num[2])+int(num[3])+int(num[4]))\n",
    "print(sum)"
   ]
  },
  {
   "cell_type": "code",
   "execution_count": 18,
   "id": "5865a556",
   "metadata": {},
   "outputs": [
    {
     "name": "stdout",
     "output_type": "stream",
     "text": [
      "1 2 1\n",
      "1 2 3 2 1\n",
      "1 2 3 4 3 2 1\n",
      "1 2 3 4 5 4 3 2 1\n"
     ]
    }
   ],
   "source": [
    "# Print the following pattern. There is exactly one space between any two consecutive numbers on any line. There are no spaces at the end of any line.\n",
    "# 1 2 1\n",
    "# 1 2 3 2 1\n",
    "# 1 2 3 4 3 2 1\n",
    "# 1 2 3 4 5 4 3 2 1\n",
    "\n",
    "print(\"1 2 1\")\n",
    "print(\"1 2 3 2 1\")\n",
    "print(\"1 2 3 4 3 2 1\")\n",
    "print(\"1 2 3 4 5 4 3 2 1\")"
   ]
  },
  {
   "cell_type": "code",
   "execution_count": 19,
   "id": "8e9d1d3c",
   "metadata": {},
   "outputs": [
    {
     "data": {
      "text/plain": [
       "True"
      ]
     },
     "execution_count": 19,
     "metadata": {},
     "output_type": "execute_result"
    }
   ],
   "source": [
    "\"\"\"\n",
    "A simple algorithm has to be designed to find out whether a student belongs to \n",
    "the Data Science branch or not. The input will be a student's roll number, \n",
    "which is of the form BR18B0000. Here, BR represents the branch code, \n",
    "18\n",
    "18 represents the year of joining, B represents the education level and \n",
    "0000\n",
    "0000 represents the specific identification given to the student of that batch. \n",
    "The branch code for Data Science is DS. Print True if the student belongs to Data Science branch \n",
    "and False otherwise.\n",
    "\"\"\"\n",
    "\n",
    "roll_num =input()\n",
    "roll_num[0:2] ==\"DS\"\n",
    "\n"
   ]
  },
  {
   "cell_type": "code",
   "execution_count": 20,
   "id": "28a86200",
   "metadata": {},
   "outputs": [
    {
     "data": {
      "text/plain": [
       "True"
      ]
     },
     "execution_count": 20,
     "metadata": {},
     "output_type": "execute_result"
    }
   ],
   "source": [
    "\"\"\"\n",
    "The police are trying to track a criminal based on the evidence available at a crime site. \n",
    "Their main clue is a vehicle's damaged number plate. Only the string TN07 is visible. \n",
    "The format of the registration number is AA00AA00, where the first two letters are alphabets, \n",
    "next two are numbers, next two are again alphabets followed by two numbers at the end. \n",
    "A number plate is picked from a database of registration numbers and is given to you as input. \n",
    "Your task is to determine if this could belong to the criminal or not. \n",
    "Print True if the number plate contains TN07 and False otherwise\n",
    "\"\"\"\n",
    "vehicle_num=input()\n",
    "\"TN07\" in vehicle_num\n",
    "\n"
   ]
  },
  {
   "cell_type": "code",
   "execution_count": 23,
   "id": "23fb0266",
   "metadata": {},
   "outputs": [
    {
     "name": "stdout",
     "output_type": "stream",
     "text": [
      "1\n"
     ]
    }
   ],
   "source": [
    "\"\"\"\n",
    "Accept two integers a and b as input and print the absolute difference of both the numbers.\n",
    "For example, if a = 9 , b = 8 then the absolute difference is 9−8=1. So,\n",
    "So, your output should be 1. \n",
    "You should be able to solve this problem using the concepts covered in this week.\n",
    "\"\"\"\n",
    "a =int(input())\n",
    "b =int(input())\n",
    "abs_dif =abs(a-b)\n",
    "print(abs_dif)"
   ]
  },
  {
   "cell_type": "code",
   "execution_count": 31,
   "id": "3efe1e28",
   "metadata": {},
   "outputs": [
    {
     "name": "stdout",
     "output_type": "stream",
     "text": [
      "ppppppp\n"
     ]
    }
   ],
   "source": [
    "\"\"\"\n",
    "You are given a string and two non-negative integers as input. \n",
    "The two integers specify the start and end indices of a substring in the given string. \n",
    "Create a new string by replicating the substring a minimum number of times so \n",
    "that the resulting string is longer than the input string.\n",
    "The input parameters are the string, start index of the substring and \n",
    "the end index of substring (endpoints inclusive) each on a different line.\n",
    "\"\"\"\n",
    "\n",
    "str=input()\n",
    "a=int(input())\n",
    "b=int(input())\n",
    "sub_string=str[a:b+1]\n",
    "new_string=len(str)//len(sub_string)+1\n",
    "resulting_string=sub_string*new_string\n",
    "print(resulting_string)"
   ]
  },
  {
   "cell_type": "code",
   "execution_count": 38,
   "id": "82816fa0",
   "metadata": {},
   "outputs": [
    {
     "name": "stdout",
     "output_type": "stream",
     "text": [
      "4.5\n"
     ]
    }
   ],
   "source": [
    "x=int(input())\n",
    "cfrac=x+(1/x+(1/x+(1/x+(1/x+(1/x)))))\n",
    "print(cfrac)"
   ]
  },
  {
   "cell_type": "code",
   "execution_count": 41,
   "id": "48b7384b",
   "metadata": {},
   "outputs": [
    {
     "name": "stdout",
     "output_type": "stream",
     "text": [
      "this is a good idea. ki\\ h h h\n"
     ]
    }
   ],
   "source": [
    "## accept five words as input and print the sentence formed by these words after \n",
    "# adding a space between consecutive words and a full stop at the end.\n",
    "a=input()\n",
    "b=input()\n",
    "c=input()\n",
    "d=input()\n",
    "e=input()\n",
    "print(a ,b ,c ,d, e)"
   ]
  },
  {
   "cell_type": "code",
   "execution_count": 42,
   "id": "53295b61",
   "metadata": {},
   "outputs": [
    {
     "name": "stdout",
     "output_type": "stream",
     "text": [
      "1992\n"
     ]
    }
   ],
   "source": [
    "# Accept the date in DD-MM-YYYY format as input and print the year as output.\n",
    "date =input()\n",
    "year =date[6:11]\n",
    "print(year)"
   ]
  },
  {
   "cell_type": "code",
   "execution_count": 43,
   "id": "4e516d69",
   "metadata": {},
   "outputs": [
    {
     "name": "stdout",
     "output_type": "stream",
     "text": [
      "product : 120\n"
     ]
    }
   ],
   "source": [
    "# Accept a sequence of five single digit numbers separated by commas as input. \n",
    "# Print the product of all five numbers.\n",
    "a =input()\n",
    "b=int(a[0])\n",
    "c=int(a[1])\n",
    "d=int(a[2])\n",
    "e=int(a[3])\n",
    "f=int(a[4])\n",
    "print(f\"product : {b*c*d*e*f}\")"
   ]
  },
  {
   "cell_type": "code",
   "execution_count": 46,
   "id": "6421c8f8",
   "metadata": {},
   "outputs": [
    {
     "name": "stdout",
     "output_type": "stream",
     "text": [
      "branch = CS\n",
      "degree = BT\n",
      "Year = 21\n",
      "roll_num = 7412\n",
      "Institute = iitm\n"
     ]
    }
   ],
   "source": [
    "\"\"\"\n",
    "Assume that several IITs start offering online degrees across multiple branches. \n",
    "The email-id of a student is defined as follows:\n",
    "branch_degree_year_roll@student.onlinedegree.institute.ac.in\n",
    "For example, if the email-id is CS_BT_21_7412@student.onlinedegree.iitm.ac.in, \n",
    "then this student is from the computer science branch, pursuing a BTech degree from IITM, \n",
    "starting from the year 2021, with 7412 as the roll number. branch, \n",
    "degree and year are codes of length two, while roll and institute are codes of length four. \n",
    "Accept a student's email-id as input and print the following details, one item on each line:\n",
    "\n",
    "(1) Branch\n",
    "(2) Degree\n",
    "(3) Year\n",
    "(4) Roll number\n",
    "(5) Institute\n",
    "\"\"\"\n",
    "email=input()\n",
    "print(f\"branch = {email[0:2]}\")\n",
    "print(f\"degree = {email[3:5]}\")\n",
    "print(f\"Year = {email[6:8]}\")\n",
    "print(f\"roll_num = {email[9:13]}\")\n",
    "print(f\"Institute = {email[35:39]}\")\n"
   ]
  },
  {
   "cell_type": "code",
   "execution_count": 56,
   "id": "7121c68e",
   "metadata": {},
   "outputs": [
    {
     "name": "stdout",
     "output_type": "stream",
     "text": [
      "res : 625\n",
      "3\n"
     ]
    }
   ],
   "source": [
    "# Accept two positive integers x and y as input. Print the number of digits in x^y. \n",
    "# You should be able to solve this problem .\n",
    "\n",
    "x = int(input())\n",
    "y = int(input())\n",
    "res = x ** y\n",
    "print(f\"res : {res}\")\n",
    "count =0\n",
    "while res > 0:\n",
    "    last_digit =res % 10\n",
    "    count +=1\n",
    "    res= res //10\n",
    "print(count)\n",
    "\n"
   ]
  },
  {
   "cell_type": "code",
   "execution_count": 59,
   "id": "50057014",
   "metadata": {},
   "outputs": [
    {
     "name": "stdout",
     "output_type": "stream",
     "text": [
      "0\n"
     ]
    }
   ],
   "source": [
    "\"\"\"\n",
    "Accept two positive integers M and N as input. There are two cases to consider:\n",
    "\n",
    "If M < N, then print M as output.\n",
    "\n",
    "If M ≥ N, subtract N from M. Call the difference M₁.\n",
    "\n",
    "If M₁ ≥ N, then subtract N from M₁ and call the difference M₂.\n",
    "\n",
    "Keep doing this operation until you reach a value Mₖ such that Mₖ < N.\n",
    "\n",
    "You have to print the value of Mₖ as output.\n",
    "\"\"\"\n",
    "\n",
    "M = int(input())\n",
    "N = int(input())\n",
    "print(M % N)"
   ]
  }
 ],
 "metadata": {
  "kernelspec": {
   "display_name": "enev",
   "language": "python",
   "name": "python3"
  },
  "language_info": {
   "codemirror_mode": {
    "name": "ipython",
    "version": 3
   },
   "file_extension": ".py",
   "mimetype": "text/x-python",
   "name": "python",
   "nbconvert_exporter": "python",
   "pygments_lexer": "ipython3",
   "version": "3.12.0"
  }
 },
 "nbformat": 4,
 "nbformat_minor": 5
}
