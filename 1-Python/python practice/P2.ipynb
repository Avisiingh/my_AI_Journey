{
 "cells": [
  {
   "cell_type": "code",
   "execution_count": 2,
   "id": "bd446efc",
   "metadata": {},
   "outputs": [
    {
     "name": "stdout",
     "output_type": "stream",
     "text": [
      "Negative\n"
     ]
    }
   ],
   "source": [
    "# Accept a non-zero integer as input. \n",
    "# Print positive if it is greater than zero and negative if it is less than zero.\n",
    "n =int(input())\n",
    "if n > 0:\n",
    "    print(\"Positive\")\n",
    "else:\n",
    "    print(\"Negative\")"
   ]
  },
  {
   "cell_type": "markdown",
   "id": "408a28e9",
   "metadata": {},
   "source": [
    "# Piecewise Function Problem\n",
    "\n",
    "##### Consider the piecewise function given below:\n",
    "\n",
    "\\[\n",
    "f(x) =\n",
    "\\begin{cases}\n",
    "x + 2 & \\quad 0 < x < 10 \\\\\n",
    "x^2 + 2 & \\quad 10 \\leq x \\\\\n",
    "0 & \\quad \\text{otherwise}\n",
    "\\end{cases}\n",
    "\\]\n",
    "\n",
    "---\n",
    "\n",
    "### Task:\n",
    "Accept the value of `x` as input and print the value of `f(x)` as output.  \n",
    "\n",
    "- Both the input and output should be real numbers (float values).  \n",
    "- Your code should ensure that both `x` and `f(x)` are treated as floats.  \n",
    "\n",
    "---\n"
   ]
  },
  {
   "cell_type": "code",
   "execution_count": 6,
   "id": "f84caa3d",
   "metadata": {},
   "outputs": [
    {
     "name": "stdout",
     "output_type": "stream",
     "text": [
      "102\n"
     ]
    }
   ],
   "source": [
    "x =int(input())\n",
    "if x < 0:\n",
    "    print(0)\n",
    "elif 0 < x < 10:\n",
    "    print(x + 2)\n",
    "else:\n",
    "    print(x**2 +2)"
   ]
  },
  {
   "cell_type": "markdown",
   "id": "deb087e7",
   "metadata": {},
   "source": [
    "# Time of the Day Problem\n",
    "\n",
    "Accept an integer as input and print the time of the day.  \n",
    "Use the following table for reference:\n",
    "\n",
    "| Input Range       | Output     |\n",
    "|-------------------|------------|\n",
    "| T < 0             | INVALID    |\n",
    "| 0 ≤ T ≤ 5         | NIGHT      |\n",
    "| 6 ≤ T ≤ 11        | MORNING    |\n",
    "| 12 ≤ T ≤ 17       | AFTERNOON  |\n",
    "| 18 ≤ T ≤ 23       | EVENING    |\n",
    "| T ≥ 24            | INVALID    |\n",
    "\n",
    "---\n",
    "\n",
    "### Task:\n",
    "- The input will be a single line containing an integer `T`.  \n",
    "- The output should be one of these strings: **NIGHT, MORNING, AFTERNOON, EVENING, INVALID**.  \n",
    "\n",
    "---\n",
    "\n",
    "\n"
   ]
  },
  {
   "cell_type": "code",
   "execution_count": 9,
   "id": "7db739e7",
   "metadata": {},
   "outputs": [
    {
     "name": "stdout",
     "output_type": "stream",
     "text": [
      "AFTERNOON\n"
     ]
    }
   ],
   "source": [
    "T =int(input())\n",
    "if T < 0:\n",
    "    print(\"INVALID\")\n",
    "elif 0 <= T <= 5:\n",
    "    print(\"NIGHT\")\n",
    "elif 6 <= T <=11:\n",
    "    print(\"MORNING\")\n",
    "elif 12 <= T <=17 :\n",
    "    print(\"AFTERNOON\")\n",
    "elif 18 <= T <=23:\n",
    "    print(\"EVENING\")\n",
    "else:\n",
    "    print(\"INVALID\")\n",
    "\n"
   ]
  },
  {
   "cell_type": "code",
   "execution_count": 19,
   "id": "1dc1987a",
   "metadata": {},
   "outputs": [
    {
     "name": "stdout",
     "output_type": "stream",
     "text": [
      "x axis\n"
     ]
    }
   ],
   "source": [
    "\"\"\"\n",
    "Accept a point in 2D space as input and find the region in space that this point belongs to. \n",
    "A point could belong to one of the four quadrants, or it could be on one of the two axes, or \n",
    "it could be the origin. The input is given in 2 lines: the first line is the x-coordinate of \n",
    "the point while the second line is its y-coordinate. \n",
    "The possible outputs are first, second, third, fourth, x-axis, y-axis, and origin. \n",
    "Any other output will not be accepted. \n",
    "Note that all outputs should be in lower case.\n",
    "\"\"\"\n",
    "x =float(input())\n",
    "y =float(input())\n",
    "if x == 0 and y ==0:\n",
    "    print(\"origin\")\n",
    "elif x == 0:\n",
    "    print(\"Y axis\")\n",
    "elif y == 0:\n",
    "    print(\"x axis\")\n",
    "elif x > 0 and y > 0:\n",
    "    print(\"first\")\n",
    "elif x < 0 and y > 0:\n",
    "    print(\"second\")\n",
    "elif x < 0 and y < 0:\n",
    "    print(\"third\")\n",
    "else:\n",
    "    print(\"fourth\")"
   ]
  },
  {
   "cell_type": "code",
   "execution_count": 1,
   "id": "239b67a6",
   "metadata": {},
   "outputs": [
    {
     "name": "stdout",
     "output_type": "stream",
     "text": [
      "3.0\n",
      "Positive Slope\n"
     ]
    }
   ],
   "source": [
    "\"\"\" Equation of a Line Problem\n",
    "\n",
    "Write a program to realize the equation of a line given two points (x₁, y₁) and (x₂, y₂) in 2D space.  \n",
    "\n",
    "The input is 5 lines, where:\n",
    "- First line → x1\n",
    "- Second line → y1\n",
    "- Third line → x2\n",
    "- Fourth line → y2\n",
    "- Fifth line → x3\n",
    "\n",
    "You need to determine  using the equation of a straight line:\n",
    "(x - x1) / (x2 - x1) = (y - y1) / (y2 - y1)\n",
    "\n",
    "### Output Requirements:\n",
    "- If the line is vertical (x1 == x2), print:\n",
    "- Otherwise, output 2 lines:\n",
    "1. The value of y3\n",
    "2. The type of slope:\n",
    "   - Positive Slope\n",
    "   - Negative Slope\n",
    "   - Horizontal Line  \n",
    "\n",
    "\"\"\"\n",
    "x1=float(input())\n",
    "y1=float(input())\n",
    "x2=float(input())\n",
    "y2=float(input())\n",
    "x3=float(input())\n",
    "if x1==x2:\n",
    "    print(\"Verticall Line\")\n",
    "else:\n",
    "    slope=(y2-y1)/(x2-x1)\n",
    "    y3=y1+slope*(x3-x1)\n",
    "    print(y3)\n",
    "    if slope>0:\n",
    "        print(\"Positive Slope\")\n",
    "    elif slope<0:\n",
    "        print(\"Negative Slope\")\n",
    "    else:\n",
    "        print(\"Horizontal Line\")\n",
    "\n"
   ]
  },
  {
   "cell_type": "code",
   "execution_count": 6,
   "id": "83909f7f",
   "metadata": {},
   "outputs": [
    {
     "name": "stdout",
     "output_type": "stream",
     "text": [
      "ity\n"
     ]
    }
   ],
   "source": [
    "\"\"\"\n",
    "Accept a string as input. If the input string is of odd length, then continue with it. \n",
    "If the input string is of even length, make the string of odd length by \n",
    "ollowing the two steps mentioned below:\n",
    "(1) If the last character is a period (.), then remove it\n",
    "(2) If the last character is not a period, then add a period (.) to the end of the string\n",
    "\n",
    "Call this string of odd length word. Select a substring made up of \n",
    "three consecutive characters from word such that there are an equal number of characters \n",
    "to the left and right of this substring. Print this substring as output. You can assume \n",
    "that all input strings will be in lower case and will have a length of at least four.\n",
    "\"\"\"\n",
    "\n",
    "s = input()\n",
    "m = len(s)\n",
    "if m % 2 == 0 :\n",
    "    if s[-1]=='.':\n",
    "        s = s[:-1]\n",
    "    else:\n",
    "        s = s +'.'\n",
    "else:\n",
    "    s =s[int(m/2)-1:int(m/2)+2]\n",
    "print(s)\n",
    "\n"
   ]
  },
  {
   "cell_type": "code",
   "execution_count": 9,
   "id": "4264024f",
   "metadata": {},
   "outputs": [
    {
     "name": "stdout",
     "output_type": "stream",
     "text": [
      "non magical number\n"
     ]
    }
   ],
   "source": [
    "\"\"\"\n",
    "A sequence of five words is called magical.  if the i th  word is a substring of the (i +1)th\n",
    "word for every i in the range 1 ≤ i < 5. Accept a sequence of five words as input,\n",
    "one word on each line. \n",
    "Print magical if the sequence is magical and non-magical otherwise.\n",
    "\n",
    "Note that str_1 is a substring of str_2 if and\n",
    "only if str_1 is present as a sequence of consecutive characters in str_2.\n",
    "\"\"\"\n",
    "a =input()\n",
    "b =input()\n",
    "c =input()\n",
    "d =input()\n",
    "e =input()\n",
    "\n",
    "if a in b and b in c and c in d and d in e:\n",
    "    print(\"magical number\")\n",
    "else:\n",
    "    print(\"non magical number\")\n",
    "\n",
    "\n"
   ]
  },
  {
   "cell_type": "code",
   "execution_count": 10,
   "id": "47e0a246",
   "metadata": {},
   "outputs": [
    {
     "name": "stdout",
     "output_type": "stream",
     "text": [
      "YES\n"
     ]
    }
   ],
   "source": [
    "\"\"\"\n",
    "Accept two positions as input: start and end. \n",
    "Print YES if a bishop at start can move to end in exactly one move. \n",
    "Print NO otherwise. Note that a bishop can only move along diagonals.\n",
    "\"\"\"\n",
    "start, end = input(), input()\n",
    "pos = 'ABCDEFGH'\n",
    "start_horiz, start_vert = pos.index(start[0]), int(start[1])\n",
    "end_horiz, end_vert = pos.index(end[0]), int(end[1])\n",
    "if abs(start_horiz - end_horiz) == abs(start_vert - end_vert):\n",
    "    print('YES')\n",
    "else:\n",
    "    print('NO')"
   ]
  },
  {
   "cell_type": "code",
   "execution_count": 15,
   "id": "9ab15fb1",
   "metadata": {},
   "outputs": [
    {
     "name": "stdout",
     "output_type": "stream",
     "text": [
      "FAIR\n"
     ]
    }
   ],
   "source": [
    "\"\"\"\n",
    "\n",
    "You have n gold coins with you. You wish to divide this among three of your friends under \n",
    "the following conditions:\n",
    "(1) All three of them should get a non-zero share.\n",
    "(2) No two of them should get the same number of coins.\n",
    "(3) You should not have any coins with you at the end of this sharing process.\n",
    "The input has four lines. The first line contains the number of coins with you. \n",
    "The next three lines will have the share given to your three friends. \n",
    "All inputs shall be non-negative integers. If the division satisfies these conditions, \n",
    "then print the string FAIR. If not, print UNFAIR.\n",
    "\"\"\"\n",
    "\n",
    "n = int(input())\n",
    "a = int(input())\n",
    "b = int(input())\n",
    "c = int(input())\n",
    "\n",
    "if a != 0 and b != 0 and c != 0 and a != b and b != c and a != c:\n",
    "    if n == a + b + c:\n",
    "        print(\"FAIR\")\n",
    "    else:\n",
    "        print(\"UNFAIR\")\n",
    "else:\n",
    "    print(\"UNFAIR\")\n"
   ]
  },
  {
   "cell_type": "code",
   "execution_count": 19,
   "id": "ecae2744",
   "metadata": {},
   "outputs": [
    {
     "name": "stdout",
     "output_type": "stream",
     "text": [
      "FAIR\n"
     ]
    }
   ],
   "source": [
    "## Another way\n",
    "n ,a,b,c =int(input()),int(input()),int(input()),int(input())\n",
    "if 0 not in (a,b,c) and len([a,b,c]) ==3 and n ==a + b + c:\n",
    "    print(\"FAIR\")\n",
    "else:\n",
    "    print(\"UNFAIR\")\n"
   ]
  },
  {
   "cell_type": "code",
   "execution_count": 20,
   "id": "c0d07199",
   "metadata": {},
   "outputs": [
    {
     "name": "stdout",
     "output_type": "stream",
     "text": [
      "5\n",
      "6\n"
     ]
    }
   ],
   "source": [
    "\"\"\" \n",
    "Accept a real number x as input and print the greatest integer less than or equal to \n",
    "x on the first line, followed by the smallest integer greater than or equal to \n",
    "x on the second line.\n",
    "\"\"\"\n",
    "import math\n",
    "x = float(input())\n",
    "print(math.floor(x))\n",
    "print(math.ceil(x))\n"
   ]
  }
 ],
 "metadata": {
  "kernelspec": {
   "display_name": "enev",
   "language": "python",
   "name": "python3"
  },
  "language_info": {
   "codemirror_mode": {
    "name": "ipython",
    "version": 3
   },
   "file_extension": ".py",
   "mimetype": "text/x-python",
   "name": "python",
   "nbconvert_exporter": "python",
   "pygments_lexer": "ipython3",
   "version": "3.12.0"
  }
 },
 "nbformat": 4,
 "nbformat_minor": 5
}
